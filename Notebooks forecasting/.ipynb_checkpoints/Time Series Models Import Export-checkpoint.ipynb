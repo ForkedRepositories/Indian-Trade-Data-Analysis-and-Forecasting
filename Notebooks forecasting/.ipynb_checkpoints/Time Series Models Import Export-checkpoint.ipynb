{
 "cells": [
  {
   "cell_type": "markdown",
   "metadata": {
    "colab_type": "text",
    "id": "64ZxauwwU1Bg"
   },
   "source": [
    "[Reference for the Below Analysis](https://machinelearningmastery.com/time-series-forecasting-methods-in-python-cheat-sheet/)"
   ]
  },
  {
   "cell_type": "code",
   "execution_count": 1,
   "metadata": {
    "colab": {},
    "colab_type": "code",
    "id": "PkjwUypTF1DX"
   },
   "outputs": [],
   "source": [
    "import warnings\n",
    "warnings.filterwarnings(\"ignore\")"
   ]
  },
  {
   "cell_type": "markdown",
   "metadata": {
    "colab_type": "text",
    "id": "gFJK1bWzuvnm"
   },
   "source": [
    "# Time Series Model"
   ]
  },
  {
   "cell_type": "code",
   "execution_count": 2,
   "metadata": {
    "colab": {},
    "colab_type": "code",
    "id": "_BmQicRhvKWD"
   },
   "outputs": [],
   "source": [
    "import pandas as pd\n",
    "import numpy as np\n",
    "import matplotlib.pyplot as plt\n"
   ]
  },
  {
   "cell_type": "code",
   "execution_count": 3,
   "metadata": {
    "colab": {
     "base_uri": "https://localhost:8080/",
     "height": 195
    },
    "colab_type": "code",
    "executionInfo": {
     "elapsed": 1108,
     "status": "ok",
     "timestamp": 1585477348135,
     "user": {
      "displayName": "akarsh somani",
      "photoUrl": "https://lh3.googleusercontent.com/a-/AOh14GiN-1Mjk0iHjL-pNCGOb_6RUYymK7NTMKn0mAjU=s64",
      "userId": "11970825251896819324"
     },
     "user_tz": -330
    },
    "id": "_dNhGLuWvKTT",
    "outputId": "c9d17979-328d-4276-d122-9373f7165f96"
   },
   "outputs": [
    {
     "data": {
      "text/html": [
       "<div>\n",
       "<style scoped>\n",
       "    .dataframe tbody tr th:only-of-type {\n",
       "        vertical-align: middle;\n",
       "    }\n",
       "\n",
       "    .dataframe tbody tr th {\n",
       "        vertical-align: top;\n",
       "    }\n",
       "\n",
       "    .dataframe thead th {\n",
       "        text-align: right;\n",
       "    }\n",
       "</style>\n",
       "<table border=\"1\" class=\"dataframe\">\n",
       "  <thead>\n",
       "    <tr style=\"text-align: right;\">\n",
       "      <th></th>\n",
       "      <th>Date</th>\n",
       "      <th>Import</th>\n",
       "      <th>Export</th>\n",
       "    </tr>\n",
       "  </thead>\n",
       "  <tbody>\n",
       "    <tr>\n",
       "      <th>0</th>\n",
       "      <td>2006-01-01</td>\n",
       "      <td>12519.71</td>\n",
       "      <td>9143.66</td>\n",
       "    </tr>\n",
       "    <tr>\n",
       "      <th>1</th>\n",
       "      <td>2006-02-01</td>\n",
       "      <td>11479.69</td>\n",
       "      <td>8993.29</td>\n",
       "    </tr>\n",
       "    <tr>\n",
       "      <th>2</th>\n",
       "      <td>2006-03-01</td>\n",
       "      <td>14314.02</td>\n",
       "      <td>11560.97</td>\n",
       "    </tr>\n",
       "    <tr>\n",
       "      <th>3</th>\n",
       "      <td>2006-04-01</td>\n",
       "      <td>12924.18</td>\n",
       "      <td>8624.66</td>\n",
       "    </tr>\n",
       "    <tr>\n",
       "      <th>4</th>\n",
       "      <td>2006-05-01</td>\n",
       "      <td>15105.67</td>\n",
       "      <td>10109.30</td>\n",
       "    </tr>\n",
       "  </tbody>\n",
       "</table>\n",
       "</div>"
      ],
      "text/plain": [
       "        Date    Import    Export\n",
       "0 2006-01-01  12519.71   9143.66\n",
       "1 2006-02-01  11479.69   8993.29\n",
       "2 2006-03-01  14314.02  11560.97\n",
       "3 2006-04-01  12924.18   8624.66\n",
       "4 2006-05-01  15105.67  10109.30"
      ]
     },
     "execution_count": 3,
     "metadata": {},
     "output_type": "execute_result"
    }
   ],
   "source": [
    "df = pd.read_excel('../Data/monthly_data_total.xlsx')\n",
    "df.head()"
   ]
  },
  {
   "cell_type": "code",
   "execution_count": 4,
   "metadata": {
    "colab": {},
    "colab_type": "code",
    "id": "zMnipP7vxE0s"
   },
   "outputs": [],
   "source": [
    "df.index = df.Date"
   ]
  },
  {
   "cell_type": "code",
   "execution_count": 5,
   "metadata": {
    "colab": {},
    "colab_type": "code",
    "id": "IN3dVjk9xLlC"
   },
   "outputs": [],
   "source": [
    "df.drop('Date', axis =1, inplace = True)"
   ]
  },
  {
   "cell_type": "code",
   "execution_count": 6,
   "metadata": {
    "colab": {
     "base_uri": "https://localhost:8080/",
     "height": 225
    },
    "colab_type": "code",
    "executionInfo": {
     "elapsed": 1821,
     "status": "ok",
     "timestamp": 1585477351056,
     "user": {
      "displayName": "akarsh somani",
      "photoUrl": "https://lh3.googleusercontent.com/a-/AOh14GiN-1Mjk0iHjL-pNCGOb_6RUYymK7NTMKn0mAjU=s64",
      "userId": "11970825251896819324"
     },
     "user_tz": -330
    },
    "id": "4Pf_-NeMxJMw",
    "outputId": "2f9893cc-bc18-4c92-ab8d-07044ab972a8"
   },
   "outputs": [
    {
     "data": {
      "text/html": [
       "<div>\n",
       "<style scoped>\n",
       "    .dataframe tbody tr th:only-of-type {\n",
       "        vertical-align: middle;\n",
       "    }\n",
       "\n",
       "    .dataframe tbody tr th {\n",
       "        vertical-align: top;\n",
       "    }\n",
       "\n",
       "    .dataframe thead th {\n",
       "        text-align: right;\n",
       "    }\n",
       "</style>\n",
       "<table border=\"1\" class=\"dataframe\">\n",
       "  <thead>\n",
       "    <tr style=\"text-align: right;\">\n",
       "      <th></th>\n",
       "      <th>Import</th>\n",
       "      <th>Export</th>\n",
       "    </tr>\n",
       "    <tr>\n",
       "      <th>Date</th>\n",
       "      <th></th>\n",
       "      <th></th>\n",
       "    </tr>\n",
       "  </thead>\n",
       "  <tbody>\n",
       "    <tr>\n",
       "      <th>2006-01-01</th>\n",
       "      <td>12519.71</td>\n",
       "      <td>9143.66</td>\n",
       "    </tr>\n",
       "    <tr>\n",
       "      <th>2006-02-01</th>\n",
       "      <td>11479.69</td>\n",
       "      <td>8993.29</td>\n",
       "    </tr>\n",
       "    <tr>\n",
       "      <th>2006-03-01</th>\n",
       "      <td>14314.02</td>\n",
       "      <td>11560.97</td>\n",
       "    </tr>\n",
       "    <tr>\n",
       "      <th>2006-04-01</th>\n",
       "      <td>12924.18</td>\n",
       "      <td>8624.66</td>\n",
       "    </tr>\n",
       "    <tr>\n",
       "      <th>2006-05-01</th>\n",
       "      <td>15105.67</td>\n",
       "      <td>10109.30</td>\n",
       "    </tr>\n",
       "  </tbody>\n",
       "</table>\n",
       "</div>"
      ],
      "text/plain": [
       "              Import    Export\n",
       "Date                          \n",
       "2006-01-01  12519.71   9143.66\n",
       "2006-02-01  11479.69   8993.29\n",
       "2006-03-01  14314.02  11560.97\n",
       "2006-04-01  12924.18   8624.66\n",
       "2006-05-01  15105.67  10109.30"
      ]
     },
     "execution_count": 6,
     "metadata": {},
     "output_type": "execute_result"
    }
   ],
   "source": [
    "df.head()"
   ]
  },
  {
   "cell_type": "code",
   "execution_count": 7,
   "metadata": {
    "colab": {
     "base_uri": "https://localhost:8080/",
     "height": 296
    },
    "colab_type": "code",
    "executionInfo": {
     "elapsed": 1914,
     "status": "ok",
     "timestamp": 1585477353663,
     "user": {
      "displayName": "akarsh somani",
      "photoUrl": "https://lh3.googleusercontent.com/a-/AOh14GiN-1Mjk0iHjL-pNCGOb_6RUYymK7NTMKn0mAjU=s64",
      "userId": "11970825251896819324"
     },
     "user_tz": -330
    },
    "id": "-a6ai5vdvKPy",
    "outputId": "007b857b-54ff-4207-ae81-8b951bb69b8d"
   },
   "outputs": [
    {
     "data": {
      "text/plain": [
       "<matplotlib.axes._subplots.AxesSubplot at 0xfa26d50>"
      ]
     },
     "execution_count": 7,
     "metadata": {},
     "output_type": "execute_result"
    },
    {
     "data": {
      "image/png": "[encoded data removed]",
      "text/plain": [
       "<Figure size 432x288 with 1 Axes>"
      ]
     },
     "metadata": {
      "needs_background": "light"
     },
     "output_type": "display_data"
    }
   ],
   "source": [
    "df.plot()"
   ]
  },
  {
   "cell_type": "code",
   "execution_count": 0,
   "metadata": {
    "colab": {},
    "colab_type": "code",
    "id": "bH7BSZoMvKBh"
   },
   "outputs": [],
   "source": [
    "df['exp_import'] = np.log(df['Import'])\n",
    "df['exp_export'] = np.log(df['Export'])"
   ]
  },
  {
   "cell_type": "code",
   "execution_count": 9,
   "metadata": {
    "colab": {
     "base_uri": "https://localhost:8080/",
     "height": 296
    },
    "colab_type": "code",
    "executionInfo": {
     "elapsed": 1638,
     "status": "ok",
     "timestamp": 1585477360184,
     "user": {
      "displayName": "akarsh somani",
      "photoUrl": "https://lh3.googleusercontent.com/a-/AOh14GiN-1Mjk0iHjL-pNCGOb_6RUYymK7NTMKn0mAjU=s64",
      "userId": "11970825251896819324"
     },
     "user_tz": -330
    },
    "id": "8JqgRjkQvJ8b",
    "outputId": "8100801f-7f67-45e5-d849-feeec9d4bdae"
   },
   "outputs": [
    {
     "data": {
      "text/plain": [
       "<matplotlib.axes._subplots.AxesSubplot at 0x7f3b95f83dd8>"
      ]
     },
     "execution_count": 9,
     "metadata": {
      "tags": []
     },
     "output_type": "execute_result"
    },
    {
     "data": {
      "image/png": "[encoded data removed]",
      "text/plain": [
       "<Figure size 432x288 with 1 Axes>"
      ]
     },
     "metadata": {
      "tags": []
     },
     "output_type": "display_data"
    }
   ],
   "source": [
    "df[['exp_import','exp_export']].plot()"
   ]
  },
  {
   "cell_type": "markdown",
   "metadata": {
    "colab_type": "text",
    "id": "I15RF2cg2tCU"
   },
   "source": [
    "Checking if the data is stationary or not esle we will first make it stationary"
   ]
  },
  {
   "cell_type": "code",
   "execution_count": 0,
   "metadata": {
    "colab": {},
    "colab_type": "code",
    "id": "UfOZPlDJx4iK"
   },
   "outputs": [],
   "source": [
    "#define function for ADF test\n",
    "from statsmodels.tsa.stattools import adfuller\n",
    "def adf_test(timeseries):\n",
    "    #Perform Dickey-Fuller test:\n",
    "    print ('Results of Dickey-Fuller Test:')\n",
    "    dftest = adfuller(timeseries, autolag='AIC')\n",
    "    dfoutput = pd.Series(dftest[0:4], index=['Test Statistic','p-value','#Lags Used','Number of Observations Used'])\n",
    "    for key,value in dftest[4].items():\n",
    "       dfoutput['Critical Value (%s)'%key] = value\n",
    "    print (dfoutput)\n",
    "\n"
   ]
  },
  {
   "cell_type": "code",
   "execution_count": 11,
   "metadata": {
    "colab": {
     "base_uri": "https://localhost:8080/",
     "height": 168
    },
    "colab_type": "code",
    "executionInfo": {
     "elapsed": 1252,
     "status": "ok",
     "timestamp": 1585477390849,
     "user": {
      "displayName": "akarsh somani",
      "photoUrl": "https://lh3.googleusercontent.com/a-/AOh14GiN-1Mjk0iHjL-pNCGOb_6RUYymK7NTMKn0mAjU=s64",
      "userId": "11970825251896819324"
     },
     "user_tz": -330
    },
    "id": "nvXuz5VI0MoZ",
    "outputId": "57cf9582-ce4f-455b-a4cc-9b5e56e879d1"
   },
   "outputs": [
    {
     "name": "stdout",
     "output_type": "stream",
     "text": [
      "Results of Dickey-Fuller Test:\n",
      "Test Statistic                  -2.299031\n",
      "p-value                          0.172281\n",
      "#Lags Used                       1.000000\n",
      "Number of Observations Used    163.000000\n",
      "Critical Value (1%)             -3.471119\n",
      "Critical Value (5%)             -2.879441\n",
      "Critical Value (10%)            -2.576314\n",
      "dtype: float64\n"
     ]
    }
   ],
   "source": [
    "adf_test(df['Import'])"
   ]
  },
  {
   "cell_type": "code",
   "execution_count": 13,
   "metadata": {
    "colab": {
     "base_uri": "https://localhost:8080/",
     "height": 168
    },
    "colab_type": "code",
    "executionInfo": {
     "elapsed": 1345,
     "status": "ok",
     "timestamp": 1585477398262,
     "user": {
      "displayName": "akarsh somani",
      "photoUrl": "https://lh3.googleusercontent.com/a-/AOh14GiN-1Mjk0iHjL-pNCGOb_6RUYymK7NTMKn0mAjU=s64",
      "userId": "11970825251896819324"
     },
     "user_tz": -330
    },
    "id": "zw57zcvh0MZK",
    "outputId": "bef35ab0-0511-45ee-b1a8-51c1c0df14ea"
   },
   "outputs": [
    {
     "name": "stdout",
     "output_type": "stream",
     "text": [
      "Results of Dickey-Fuller Test:\n",
      "Test Statistic                  -1.996100\n",
      "p-value                          0.288286\n",
      "#Lags Used                      12.000000\n",
      "Number of Observations Used    152.000000\n",
      "Critical Value (1%)             -3.474121\n",
      "Critical Value (5%)             -2.880750\n",
      "Critical Value (10%)            -2.577013\n",
      "dtype: float64\n"
     ]
    }
   ],
   "source": [
    "adf_test(df['Export'])"
   ]
  },
  {
   "cell_type": "code",
   "execution_count": 14,
   "metadata": {
    "colab": {
     "base_uri": "https://localhost:8080/",
     "height": 168
    },
    "colab_type": "code",
    "executionInfo": {
     "elapsed": 846,
     "status": "ok",
     "timestamp": 1585477439503,
     "user": {
      "displayName": "akarsh somani",
      "photoUrl": "https://lh3.googleusercontent.com/a-/AOh14GiN-1Mjk0iHjL-pNCGOb_6RUYymK7NTMKn0mAjU=s64",
      "userId": "11970825251896819324"
     },
     "user_tz": -330
    },
    "id": "_JzFtCzA0EXQ",
    "outputId": "6a4aa957-75dd-4182-847f-3cee9a8462d7"
   },
   "outputs": [
    {
     "name": "stdout",
     "output_type": "stream",
     "text": [
      "Results of Dickey-Fuller Test:\n",
      "Test Statistic                  -2.943212\n",
      "p-value                          0.040549\n",
      "#Lags Used                       1.000000\n",
      "Number of Observations Used    163.000000\n",
      "Critical Value (1%)             -3.471119\n",
      "Critical Value (5%)             -2.879441\n",
      "Critical Value (10%)            -2.576314\n",
      "dtype: float64\n"
     ]
    }
   ],
   "source": [
    "#apply adf test on the series\n",
    "adf_test(df['exp_import'])"
   ]
  },
  {
   "cell_type": "code",
   "execution_count": 15,
   "metadata": {
    "colab": {
     "base_uri": "https://localhost:8080/",
     "height": 168
    },
    "colab_type": "code",
    "executionInfo": {
     "elapsed": 1308,
     "status": "ok",
     "timestamp": 1585477441344,
     "user": {
      "displayName": "akarsh somani",
      "photoUrl": "https://lh3.googleusercontent.com/a-/AOh14GiN-1Mjk0iHjL-pNCGOb_6RUYymK7NTMKn0mAjU=s64",
      "userId": "11970825251896819324"
     },
     "user_tz": -330
    },
    "id": "iC7GnsSq3zk-",
    "outputId": "f1077c5e-4a04-4e95-e8ee-73612637f069"
   },
   "outputs": [
    {
     "name": "stdout",
     "output_type": "stream",
     "text": [
      "Results of Dickey-Fuller Test:\n",
      "Test Statistic                  -2.234790\n",
      "p-value                          0.193862\n",
      "#Lags Used                      12.000000\n",
      "Number of Observations Used    152.000000\n",
      "Critical Value (1%)             -3.474121\n",
      "Critical Value (5%)             -2.880750\n",
      "Critical Value (10%)            -2.577013\n",
      "dtype: float64\n"
     ]
    }
   ],
   "source": [
    "adf_test(df['exp_export'])"
   ]
  },
  {
   "cell_type": "markdown",
   "metadata": {
    "colab_type": "text",
    "id": "vVfs17wp3YfU"
   },
   "source": [
    " If the test statistic is less than the critical value, we can reject the null hypothesis (aka the series is stationary). When the test statistic is greater than the critical value, we fail to reject the null hypothesis (which means the series is not stationary)\n",
    "\n",
    " In our case, our series is stationary with the 5% confidence interval."
   ]
  },
  {
   "cell_type": "code",
   "execution_count": 0,
   "metadata": {
    "colab": {
     "base_uri": "https://localhost:8080/",
     "height": 452
    },
    "colab_type": "code",
    "executionInfo": {
     "elapsed": 2926,
     "status": "ok",
     "timestamp": 1584890390725,
     "user": {
      "displayName": "akarsh somani",
      "photoUrl": "https://lh3.googleusercontent.com/a-/AOh14GiN-1Mjk0iHjL-pNCGOb_6RUYymK7NTMKn0mAjU=s64",
      "userId": "11970825251896819324"
     },
     "user_tz": -330
    },
    "id": "DXI0taHe7Qbb",
    "outputId": "78f89be3-15f4-4dcb-9c05-0399678845ac"
   },
   "outputs": [
    {
     "data": {
      "text/html": [
       "<div>\n",
       "<style scoped>\n",
       "    .dataframe tbody tr th:only-of-type {\n",
       "        vertical-align: middle;\n",
       "    }\n",
       "\n",
       "    .dataframe tbody tr th {\n",
       "        vertical-align: top;\n",
       "    }\n",
       "\n",
       "    .dataframe thead th {\n",
       "        text-align: right;\n",
       "    }\n",
       "</style>\n",
       "<table border=\"1\" class=\"dataframe\">\n",
       "  <thead>\n",
       "    <tr style=\"text-align: right;\">\n",
       "      <th></th>\n",
       "      <th>Import</th>\n",
       "      <th>Export</th>\n",
       "      <th>exp_import</th>\n",
       "      <th>exp_export</th>\n",
       "    </tr>\n",
       "    <tr>\n",
       "      <th>Date</th>\n",
       "      <th></th>\n",
       "      <th></th>\n",
       "      <th></th>\n",
       "      <th></th>\n",
       "    </tr>\n",
       "  </thead>\n",
       "  <tbody>\n",
       "    <tr>\n",
       "      <th>2018-10-01</th>\n",
       "      <td>44677.50</td>\n",
       "      <td>26673.52</td>\n",
       "      <td>10.707225</td>\n",
       "      <td>10.191427</td>\n",
       "    </tr>\n",
       "    <tr>\n",
       "      <th>2018-11-01</th>\n",
       "      <td>43654.80</td>\n",
       "      <td>26071.13</td>\n",
       "      <td>10.684069</td>\n",
       "      <td>10.168584</td>\n",
       "    </tr>\n",
       "    <tr>\n",
       "      <th>2018-12-01</th>\n",
       "      <td>42350.63</td>\n",
       "      <td>27857.86</td>\n",
       "      <td>10.653739</td>\n",
       "      <td>10.234870</td>\n",
       "    </tr>\n",
       "    <tr>\n",
       "      <th>2019-01-01</th>\n",
       "      <td>41454.91</td>\n",
       "      <td>26408.97</td>\n",
       "      <td>10.632362</td>\n",
       "      <td>10.181459</td>\n",
       "    </tr>\n",
       "    <tr>\n",
       "      <th>2019-02-01</th>\n",
       "      <td>36590.02</td>\n",
       "      <td>26865.68</td>\n",
       "      <td>10.507531</td>\n",
       "      <td>10.198605</td>\n",
       "    </tr>\n",
       "    <tr>\n",
       "      <th>2019-03-01</th>\n",
       "      <td>43718.65</td>\n",
       "      <td>32717.30</td>\n",
       "      <td>10.685530</td>\n",
       "      <td>10.395659</td>\n",
       "    </tr>\n",
       "    <tr>\n",
       "      <th>2019-04-01</th>\n",
       "      <td>42361.61</td>\n",
       "      <td>26023.18</td>\n",
       "      <td>10.653998</td>\n",
       "      <td>10.166743</td>\n",
       "    </tr>\n",
       "    <tr>\n",
       "      <th>2019-05-01</th>\n",
       "      <td>46618.80</td>\n",
       "      <td>29854.24</td>\n",
       "      <td>10.749759</td>\n",
       "      <td>10.304082</td>\n",
       "    </tr>\n",
       "    <tr>\n",
       "      <th>2019-06-01</th>\n",
       "      <td>40941.24</td>\n",
       "      <td>24990.77</td>\n",
       "      <td>10.619893</td>\n",
       "      <td>10.126262</td>\n",
       "    </tr>\n",
       "    <tr>\n",
       "      <th>2019-07-01</th>\n",
       "      <td>39773.89</td>\n",
       "      <td>26217.50</td>\n",
       "      <td>10.590966</td>\n",
       "      <td>10.174182</td>\n",
       "    </tr>\n",
       "    <tr>\n",
       "      <th>2019-08-01</th>\n",
       "      <td>39558.33</td>\n",
       "      <td>26133.50</td>\n",
       "      <td>10.585532</td>\n",
       "      <td>10.170973</td>\n",
       "    </tr>\n",
       "    <tr>\n",
       "      <th>2019-09-01</th>\n",
       "      <td>37346.35</td>\n",
       "      <td>26086.02</td>\n",
       "      <td>10.527990</td>\n",
       "      <td>10.169155</td>\n",
       "    </tr>\n",
       "  </tbody>\n",
       "</table>\n",
       "</div>"
      ],
      "text/plain": [
       "              Import    Export  exp_import  exp_export\n",
       "Date                                                  \n",
       "2018-10-01  44677.50  26673.52   10.707225   10.191427\n",
       "2018-11-01  43654.80  26071.13   10.684069   10.168584\n",
       "2018-12-01  42350.63  27857.86   10.653739   10.234870\n",
       "2019-01-01  41454.91  26408.97   10.632362   10.181459\n",
       "2019-02-01  36590.02  26865.68   10.507531   10.198605\n",
       "2019-03-01  43718.65  32717.30   10.685530   10.395659\n",
       "2019-04-01  42361.61  26023.18   10.653998   10.166743\n",
       "2019-05-01  46618.80  29854.24   10.749759   10.304082\n",
       "2019-06-01  40941.24  24990.77   10.619893   10.126262\n",
       "2019-07-01  39773.89  26217.50   10.590966   10.174182\n",
       "2019-08-01  39558.33  26133.50   10.585532   10.170973\n",
       "2019-09-01  37346.35  26086.02   10.527990   10.169155"
      ]
     },
     "execution_count": 12,
     "metadata": {
      "tags": []
     },
     "output_type": "execute_result"
    }
   ],
   "source": [
    "df_test = df[-12:]\n",
    "df_test"
   ]
  },
  {
   "cell_type": "code",
   "execution_count": 0,
   "metadata": {
    "colab": {
     "base_uri": "https://localhost:8080/",
     "height": 450
    },
    "colab_type": "code",
    "executionInfo": {
     "elapsed": 2908,
     "status": "ok",
     "timestamp": 1584890390728,
     "user": {
      "displayName": "akarsh somani",
      "photoUrl": "https://lh3.googleusercontent.com/a-/AOh14GiN-1Mjk0iHjL-pNCGOb_6RUYymK7NTMKn0mAjU=s64",
      "userId": "11970825251896819324"
     },
     "user_tz": -330
    },
    "id": "hv1d2_9U99uy",
    "outputId": "30c3a2e5-5660-4bb2-f26e-919bc0663020"
   },
   "outputs": [
    {
     "data": {
      "text/html": [
       "<div>\n",
       "<style scoped>\n",
       "    .dataframe tbody tr th:only-of-type {\n",
       "        vertical-align: middle;\n",
       "    }\n",
       "\n",
       "    .dataframe tbody tr th {\n",
       "        vertical-align: top;\n",
       "    }\n",
       "\n",
       "    .dataframe thead th {\n",
       "        text-align: right;\n",
       "    }\n",
       "</style>\n",
       "<table border=\"1\" class=\"dataframe\">\n",
       "  <thead>\n",
       "    <tr style=\"text-align: right;\">\n",
       "      <th></th>\n",
       "      <th>Import</th>\n",
       "      <th>Export</th>\n",
       "      <th>exp_import</th>\n",
       "      <th>exp_export</th>\n",
       "    </tr>\n",
       "    <tr>\n",
       "      <th>Date</th>\n",
       "      <th></th>\n",
       "      <th></th>\n",
       "      <th></th>\n",
       "      <th></th>\n",
       "    </tr>\n",
       "  </thead>\n",
       "  <tbody>\n",
       "    <tr>\n",
       "      <th>2006-01-01</th>\n",
       "      <td>12519.71</td>\n",
       "      <td>9143.66</td>\n",
       "      <td>9.435059</td>\n",
       "      <td>9.120816</td>\n",
       "    </tr>\n",
       "    <tr>\n",
       "      <th>2006-02-01</th>\n",
       "      <td>11479.69</td>\n",
       "      <td>8993.29</td>\n",
       "      <td>9.348335</td>\n",
       "      <td>9.104234</td>\n",
       "    </tr>\n",
       "    <tr>\n",
       "      <th>2006-03-01</th>\n",
       "      <td>14314.02</td>\n",
       "      <td>11560.97</td>\n",
       "      <td>9.568995</td>\n",
       "      <td>9.355390</td>\n",
       "    </tr>\n",
       "    <tr>\n",
       "      <th>2006-04-01</th>\n",
       "      <td>12924.18</td>\n",
       "      <td>8624.66</td>\n",
       "      <td>9.466855</td>\n",
       "      <td>9.062381</td>\n",
       "    </tr>\n",
       "    <tr>\n",
       "      <th>2006-05-01</th>\n",
       "      <td>15105.67</td>\n",
       "      <td>10109.30</td>\n",
       "      <td>9.622825</td>\n",
       "      <td>9.221211</td>\n",
       "    </tr>\n",
       "    <tr>\n",
       "      <th>...</th>\n",
       "      <td>...</td>\n",
       "      <td>...</td>\n",
       "      <td>...</td>\n",
       "      <td>...</td>\n",
       "    </tr>\n",
       "    <tr>\n",
       "      <th>2018-05-01</th>\n",
       "      <td>43916.88</td>\n",
       "      <td>28944.54</td>\n",
       "      <td>10.690054</td>\n",
       "      <td>10.273137</td>\n",
       "    </tr>\n",
       "    <tr>\n",
       "      <th>2018-06-01</th>\n",
       "      <td>44806.20</td>\n",
       "      <td>27157.65</td>\n",
       "      <td>10.710102</td>\n",
       "      <td>10.209414</td>\n",
       "    </tr>\n",
       "    <tr>\n",
       "      <th>2018-07-01</th>\n",
       "      <td>44387.68</td>\n",
       "      <td>25753.80</td>\n",
       "      <td>10.700717</td>\n",
       "      <td>10.156337</td>\n",
       "    </tr>\n",
       "    <tr>\n",
       "      <th>2018-08-01</th>\n",
       "      <td>45730.72</td>\n",
       "      <td>27807.88</td>\n",
       "      <td>10.730526</td>\n",
       "      <td>10.233075</td>\n",
       "    </tr>\n",
       "    <tr>\n",
       "      <th>2018-09-01</th>\n",
       "      <td>42819.20</td>\n",
       "      <td>27865.54</td>\n",
       "      <td>10.664742</td>\n",
       "      <td>10.235146</td>\n",
       "    </tr>\n",
       "  </tbody>\n",
       "</table>\n",
       "<p>153 rows × 4 columns</p>\n",
       "</div>"
      ],
      "text/plain": [
       "              Import    Export  exp_import  exp_export\n",
       "Date                                                  \n",
       "2006-01-01  12519.71   9143.66    9.435059    9.120816\n",
       "2006-02-01  11479.69   8993.29    9.348335    9.104234\n",
       "2006-03-01  14314.02  11560.97    9.568995    9.355390\n",
       "2006-04-01  12924.18   8624.66    9.466855    9.062381\n",
       "2006-05-01  15105.67  10109.30    9.622825    9.221211\n",
       "...              ...       ...         ...         ...\n",
       "2018-05-01  43916.88  28944.54   10.690054   10.273137\n",
       "2018-06-01  44806.20  27157.65   10.710102   10.209414\n",
       "2018-07-01  44387.68  25753.80   10.700717   10.156337\n",
       "2018-08-01  45730.72  27807.88   10.730526   10.233075\n",
       "2018-09-01  42819.20  27865.54   10.664742   10.235146\n",
       "\n",
       "[153 rows x 4 columns]"
      ]
     },
     "execution_count": 13,
     "metadata": {
      "tags": []
     },
     "output_type": "execute_result"
    }
   ],
   "source": [
    "df_train = df[: -12]\n",
    "df_train"
   ]
  },
  {
   "cell_type": "code",
   "execution_count": 0,
   "metadata": {
    "colab": {},
    "colab_type": "code",
    "id": "kUxximE1OlMM"
   },
   "outputs": [],
   "source": [
    "def rmse(predictions, targets): \n",
    "\n",
    "  return np.sqrt(((predictions - targets) ** 2).mean())"
   ]
  },
  {
   "cell_type": "markdown",
   "metadata": {
    "colab_type": "text",
    "id": "XZbw2ySHu95r"
   },
   "source": [
    "## AR (Autoregression)"
   ]
  },
  {
   "cell_type": "markdown",
   "metadata": {
    "colab_type": "text",
    "id": "ClCbjrVMST6_"
   },
   "source": [
    "The autoregression (AR) method models the next step in the sequence as a linear function of the observations at prior time steps.\n",
    "\n",
    "The notation for the model involves specifying the order of the model p as a parameter to the AR function, e.g. AR(p). For example, AR(1) is a first-order autoregression model.\n",
    "\n",
    "The method is suitable for univariate time series without trend and seasonal components."
   ]
  },
  {
   "cell_type": "code",
   "execution_count": 0,
   "metadata": {
    "colab": {
     "base_uri": "https://localhost:8080/",
     "height": 85
    },
    "colab_type": "code",
    "executionInfo": {
     "elapsed": 2884,
     "status": "ok",
     "timestamp": 1584890390735,
     "user": {
      "displayName": "akarsh somani",
      "photoUrl": "https://lh3.googleusercontent.com/a-/AOh14GiN-1Mjk0iHjL-pNCGOb_6RUYymK7NTMKn0mAjU=s64",
      "userId": "11970825251896819324"
     },
     "user_tz": -330
    },
    "id": "K7lGX6uEuuC1",
    "outputId": "c35592b7-1d1e-43b6-b2eb-c1e3dcab702c"
   },
   "outputs": [
    {
     "name": "stderr",
     "output_type": "stream",
     "text": [
      "/usr/local/lib/python3.6/dist-packages/statsmodels/tsa/base/tsa_model.py:165: ValueWarning: No frequency information was provided, so inferred frequency MS will be used.\n",
      "  % freq, ValueWarning)\n",
      "/usr/local/lib/python3.6/dist-packages/statsmodels/tsa/base/tsa_model.py:165: ValueWarning: No frequency information was provided, so inferred frequency MS will be used.\n",
      "  % freq, ValueWarning)\n"
     ]
    }
   ],
   "source": [
    "from statsmodels.tsa.ar_model import AR\n",
    "from random import random\n",
    "# contrived dataset\n",
    "# fit model\n",
    "model = AR(df_train['exp_import'])\n",
    "model_fit = model.fit()\n",
    "# make prediction\n",
    "yhat = model_fit.predict(len(df_train), len(df_train)+11)\n",
    "model2 = AR(df_train['exp_export'])\n",
    "model2_fit = model2.fit()\n",
    "# make prediction\n",
    "yhat2 = model2_fit.predict(len(df_train), len(df_train)+11)\n",
    "df_test['AR_import'] = np.exp(yhat)\n",
    "df_test['AR_export'] = np.exp(yhat2)"
   ]
  },
  {
   "cell_type": "code",
   "execution_count": 0,
   "metadata": {
    "colab": {
     "base_uri": "https://localhost:8080/",
     "height": 34
    },
    "colab_type": "code",
    "executionInfo": {
     "elapsed": 2860,
     "status": "ok",
     "timestamp": 1584890390737,
     "user": {
      "displayName": "akarsh somani",
      "photoUrl": "https://lh3.googleusercontent.com/a-/AOh14GiN-1Mjk0iHjL-pNCGOb_6RUYymK7NTMKn0mAjU=s64",
      "userId": "11970825251896819324"
     },
     "user_tz": -330
    },
    "id": "CL8sYvotNxn4",
    "outputId": "0f33a5ec-aa88-4828-a351-b5d5de86b13b"
   },
   "outputs": [
    {
     "data": {
      "text/plain": [
       "(2783.683284310495, 2024.224805362463)"
      ]
     },
     "execution_count": 16,
     "metadata": {
      "tags": []
     },
     "output_type": "execute_result"
    }
   ],
   "source": [
    "rmse(df_test.Import.values, df_test.AR_import.values), rmse(df_test.Export.values, df_test.AR_export.values)"
   ]
  },
  {
   "cell_type": "code",
   "execution_count": 0,
   "metadata": {
    "colab": {
     "base_uri": "https://localhost:8080/",
     "height": 452
    },
    "colab_type": "code",
    "executionInfo": {
     "elapsed": 2839,
     "status": "ok",
     "timestamp": 1584890390739,
     "user": {
      "displayName": "akarsh somani",
      "photoUrl": "https://lh3.googleusercontent.com/a-/AOh14GiN-1Mjk0iHjL-pNCGOb_6RUYymK7NTMKn0mAjU=s64",
      "userId": "11970825251896819324"
     },
     "user_tz": -330
    },
    "id": "h6ByYzboUFeC",
    "outputId": "6014d983-06ae-4a46-804b-79533456fa6f"
   },
   "outputs": [
    {
     "data": {
      "text/html": [
       "<div>\n",
       "<style scoped>\n",
       "    .dataframe tbody tr th:only-of-type {\n",
       "        vertical-align: middle;\n",
       "    }\n",
       "\n",
       "    .dataframe tbody tr th {\n",
       "        vertical-align: top;\n",
       "    }\n",
       "\n",
       "    .dataframe thead th {\n",
       "        text-align: right;\n",
       "    }\n",
       "</style>\n",
       "<table border=\"1\" class=\"dataframe\">\n",
       "  <thead>\n",
       "    <tr style=\"text-align: right;\">\n",
       "      <th></th>\n",
       "      <th>Import</th>\n",
       "      <th>AR_import</th>\n",
       "      <th>Export</th>\n",
       "      <th>AR_export</th>\n",
       "    </tr>\n",
       "    <tr>\n",
       "      <th>Date</th>\n",
       "      <th></th>\n",
       "      <th></th>\n",
       "      <th></th>\n",
       "      <th></th>\n",
       "    </tr>\n",
       "  </thead>\n",
       "  <tbody>\n",
       "    <tr>\n",
       "      <th>2018-10-01</th>\n",
       "      <td>44677.50</td>\n",
       "      <td>42057.101661</td>\n",
       "      <td>26673.52</td>\n",
       "      <td>25035.718001</td>\n",
       "    </tr>\n",
       "    <tr>\n",
       "      <th>2018-11-01</th>\n",
       "      <td>43654.80</td>\n",
       "      <td>41847.627691</td>\n",
       "      <td>26071.13</td>\n",
       "      <td>27199.557251</td>\n",
       "    </tr>\n",
       "    <tr>\n",
       "      <th>2018-12-01</th>\n",
       "      <td>42350.63</td>\n",
       "      <td>41193.046004</td>\n",
       "      <td>27857.86</td>\n",
       "      <td>27013.247703</td>\n",
       "    </tr>\n",
       "    <tr>\n",
       "      <th>2019-01-01</th>\n",
       "      <td>41454.91</td>\n",
       "      <td>41096.804223</td>\n",
       "      <td>26408.97</td>\n",
       "      <td>25174.985346</td>\n",
       "    </tr>\n",
       "    <tr>\n",
       "      <th>2019-02-01</th>\n",
       "      <td>36590.02</td>\n",
       "      <td>39849.176014</td>\n",
       "      <td>26865.68</td>\n",
       "      <td>26611.630563</td>\n",
       "    </tr>\n",
       "    <tr>\n",
       "      <th>2019-03-01</th>\n",
       "      <td>43718.65</td>\n",
       "      <td>40496.613097</td>\n",
       "      <td>32717.30</td>\n",
       "      <td>27079.473334</td>\n",
       "    </tr>\n",
       "    <tr>\n",
       "      <th>2019-04-01</th>\n",
       "      <td>42361.61</td>\n",
       "      <td>39418.567440</td>\n",
       "      <td>26023.18</td>\n",
       "      <td>24815.496511</td>\n",
       "    </tr>\n",
       "    <tr>\n",
       "      <th>2019-05-01</th>\n",
       "      <td>46618.80</td>\n",
       "      <td>39895.651173</td>\n",
       "      <td>29854.24</td>\n",
       "      <td>27310.329976</td>\n",
       "    </tr>\n",
       "    <tr>\n",
       "      <th>2019-06-01</th>\n",
       "      <td>40941.24</td>\n",
       "      <td>39859.234594</td>\n",
       "      <td>24990.77</td>\n",
       "      <td>26210.059706</td>\n",
       "    </tr>\n",
       "    <tr>\n",
       "      <th>2019-07-01</th>\n",
       "      <td>39773.89</td>\n",
       "      <td>39576.129862</td>\n",
       "      <td>26217.50</td>\n",
       "      <td>25057.225893</td>\n",
       "    </tr>\n",
       "    <tr>\n",
       "      <th>2019-08-01</th>\n",
       "      <td>39558.33</td>\n",
       "      <td>39986.107574</td>\n",
       "      <td>26133.50</td>\n",
       "      <td>26681.394535</td>\n",
       "    </tr>\n",
       "    <tr>\n",
       "      <th>2019-09-01</th>\n",
       "      <td>37346.35</td>\n",
       "      <td>39610.731607</td>\n",
       "      <td>26086.02</td>\n",
       "      <td>26341.560951</td>\n",
       "    </tr>\n",
       "  </tbody>\n",
       "</table>\n",
       "</div>"
      ],
      "text/plain": [
       "              Import     AR_import    Export     AR_export\n",
       "Date                                                      \n",
       "2018-10-01  44677.50  42057.101661  26673.52  25035.718001\n",
       "2018-11-01  43654.80  41847.627691  26071.13  27199.557251\n",
       "2018-12-01  42350.63  41193.046004  27857.86  27013.247703\n",
       "2019-01-01  41454.91  41096.804223  26408.97  25174.985346\n",
       "2019-02-01  36590.02  39849.176014  26865.68  26611.630563\n",
       "2019-03-01  43718.65  40496.613097  32717.30  27079.473334\n",
       "2019-04-01  42361.61  39418.567440  26023.18  24815.496511\n",
       "2019-05-01  46618.80  39895.651173  29854.24  27310.329976\n",
       "2019-06-01  40941.24  39859.234594  24990.77  26210.059706\n",
       "2019-07-01  39773.89  39576.129862  26217.50  25057.225893\n",
       "2019-08-01  39558.33  39986.107574  26133.50  26681.394535\n",
       "2019-09-01  37346.35  39610.731607  26086.02  26341.560951"
      ]
     },
     "execution_count": 17,
     "metadata": {
      "tags": []
     },
     "output_type": "execute_result"
    }
   ],
   "source": [
    "df_test[['Import','AR_import', 'Export', 'AR_export']]"
   ]
  },
  {
   "cell_type": "code",
   "execution_count": 0,
   "metadata": {
    "colab": {
     "base_uri": "https://localhost:8080/",
     "height": 351
    },
    "colab_type": "code",
    "executionInfo": {
     "elapsed": 3813,
     "status": "ok",
     "timestamp": 1584890391739,
     "user": {
      "displayName": "akarsh somani",
      "photoUrl": "https://lh3.googleusercontent.com/a-/AOh14GiN-1Mjk0iHjL-pNCGOb_6RUYymK7NTMKn0mAjU=s64",
      "userId": "11970825251896819324"
     },
     "user_tz": -330
    },
    "id": "gezo3UblUXGR",
    "outputId": "136fef44-5ed3-4e91-dedd-7b667df6b055"
   },
   "outputs": [
    {
     "data": {
      "text/plain": [
       "<matplotlib.axes._subplots.AxesSubplot at 0x7fca2881f2e8>"
      ]
     },
     "execution_count": 18,
     "metadata": {
      "tags": []
     },
     "output_type": "execute_result"
    },
    {
     "data": {
      "image/png": "[encoded data removed]",
      "text/plain": [
       "<Figure size 576x360 with 1 Axes>"
      ]
     },
     "metadata": {
      "tags": []
     },
     "output_type": "display_data"
    }
   ],
   "source": [
    "df['AR_import'] = df_test['AR_import']\n",
    "df['AR_export'] = df_test['AR_export']\n",
    "df[['Import','AR_import', 'Export', 'AR_export']].plot(figsize = (8,5), grid = True)\n"
   ]
  },
  {
   "cell_type": "markdown",
   "metadata": {
    "colab_type": "text",
    "id": "HobWPv5UQxyV"
   },
   "source": [
    "## MA (Moving Average)"
   ]
  },
  {
   "cell_type": "markdown",
   "metadata": {
    "colab_type": "text",
    "id": "zm-ASzJ9SQkh"
   },
   "source": [
    "The moving average (MA) method models the next step in the sequence as a linear function of the residual errors from a mean process at prior time steps.\n",
    "\n",
    "A moving average model is different from calculating the moving average of the time series.\n",
    "\n",
    "The notation for the model involves specifying the order of the model q as a parameter to the MA function, e.g. MA(q). For example, MA(1) is a first-order moving average model.\n",
    "\n",
    "The method is suitable for univariate time series without trend and seasonal components."
   ]
  },
  {
   "cell_type": "code",
   "execution_count": 0,
   "metadata": {
    "colab": {
     "base_uri": "https://localhost:8080/",
     "height": 510
    },
    "colab_type": "code",
    "executionInfo": {
     "elapsed": 13040,
     "status": "error",
     "timestamp": 1584890400990,
     "user": {
      "displayName": "akarsh somani",
      "photoUrl": "https://lh3.googleusercontent.com/a-/AOh14GiN-1Mjk0iHjL-pNCGOb_6RUYymK7NTMKn0mAjU=s64",
      "userId": "11970825251896819324"
     },
     "user_tz": -330
    },
    "id": "kIojkEdjOxiF",
    "outputId": "494392eb-ad30-4bca-c4f5-3623f7b98858"
   },
   "outputs": [
    {
     "name": "stderr",
     "output_type": "stream",
     "text": [
      "/usr/local/lib/python3.6/dist-packages/statsmodels/tsa/base/tsa_model.py:165: ValueWarning: No frequency information was provided, so inferred frequency MS will be used.\n",
      "  % freq, ValueWarning)\n",
      "/usr/local/lib/python3.6/dist-packages/statsmodels/base/model.py:492: HessianInversionWarning: Inverting hessian failed, no bse or cov_params available\n",
      "  'available', HessianInversionWarning)\n",
      "/usr/local/lib/python3.6/dist-packages/statsmodels/tsa/base/tsa_model.py:165: ValueWarning: No frequency information was provided, so inferred frequency MS will be used.\n",
      "  % freq, ValueWarning)\n"
     ]
    },
    {
     "ename": "ValueError",
     "evalue": "ignored",
     "output_type": "error",
     "traceback": [
      "\u001b[0;31m---------------------------------------------------------------------------\u001b[0m",
      "\u001b[0;31mValueError\u001b[0m                                Traceback (most recent call last)",
      "\u001b[0;32m<ipython-input-19-14b55f05ec18>\u001b[0m in \u001b[0;36m<module>\u001b[0;34m()\u001b[0m\n\u001b[1;32m      9\u001b[0m \u001b[0;31m# fit model export\u001b[0m\u001b[0;34m\u001b[0m\u001b[0;34m\u001b[0m\u001b[0;34m\u001b[0m\u001b[0m\n\u001b[1;32m     10\u001b[0m \u001b[0mmodel2\u001b[0m \u001b[0;34m=\u001b[0m \u001b[0mARMA\u001b[0m\u001b[0;34m(\u001b[0m\u001b[0mdf_train\u001b[0m\u001b[0;34m[\u001b[0m\u001b[0;34m'exp_export'\u001b[0m\u001b[0;34m]\u001b[0m\u001b[0;34m,\u001b[0m \u001b[0morder\u001b[0m\u001b[0;34m=\u001b[0m\u001b[0;34m(\u001b[0m\u001b[0;36m0\u001b[0m\u001b[0;34m,\u001b[0m \u001b[0;36m12\u001b[0m\u001b[0;34m)\u001b[0m\u001b[0;34m)\u001b[0m\u001b[0;34m\u001b[0m\u001b[0;34m\u001b[0m\u001b[0m\n\u001b[0;32m---> 11\u001b[0;31m \u001b[0mmodel2_fit\u001b[0m \u001b[0;34m=\u001b[0m \u001b[0mmodel2\u001b[0m\u001b[0;34m.\u001b[0m\u001b[0mfit\u001b[0m\u001b[0;34m(\u001b[0m\u001b[0mdisp\u001b[0m\u001b[0;34m=\u001b[0m\u001b[0;32mFalse\u001b[0m\u001b[0;34m)\u001b[0m\u001b[0;34m\u001b[0m\u001b[0;34m\u001b[0m\u001b[0m\n\u001b[0m\u001b[1;32m     12\u001b[0m \u001b[0;31m# make prediction\u001b[0m\u001b[0;34m\u001b[0m\u001b[0;34m\u001b[0m\u001b[0;34m\u001b[0m\u001b[0m\n\u001b[1;32m     13\u001b[0m \u001b[0myhat2\u001b[0m \u001b[0;34m=\u001b[0m \u001b[0mmodel2_fit\u001b[0m\u001b[0;34m.\u001b[0m\u001b[0mpredict\u001b[0m\u001b[0;34m(\u001b[0m\u001b[0mlen\u001b[0m\u001b[0;34m(\u001b[0m\u001b[0mdf_train\u001b[0m\u001b[0;34m)\u001b[0m\u001b[0;34m,\u001b[0m \u001b[0mlen\u001b[0m\u001b[0;34m(\u001b[0m\u001b[0mdf_train\u001b[0m\u001b[0;34m)\u001b[0m\u001b[0;34m+\u001b[0m \u001b[0;36m11\u001b[0m\u001b[0;34m)\u001b[0m\u001b[0;34m\u001b[0m\u001b[0;34m\u001b[0m\u001b[0m\n",
      "\u001b[0;32m/usr/local/lib/python3.6/dist-packages/statsmodels/tsa/arima_model.py\u001b[0m in \u001b[0;36mfit\u001b[0;34m(self, start_params, trend, method, transparams, solver, maxiter, full_output, disp, callback, start_ar_lags, **kwargs)\u001b[0m\n\u001b[1;32m    936\u001b[0m         \u001b[0;32melse\u001b[0m\u001b[0;34m:\u001b[0m  \u001b[0;31m# estimate starting parameters\u001b[0m\u001b[0;34m\u001b[0m\u001b[0;34m\u001b[0m\u001b[0m\n\u001b[1;32m    937\u001b[0m             start_params = self._fit_start_params((k_ar, k_ma, k), method,\n\u001b[0;32m--> 938\u001b[0;31m                                                   start_ar_lags)\n\u001b[0m\u001b[1;32m    939\u001b[0m \u001b[0;34m\u001b[0m\u001b[0m\n\u001b[1;32m    940\u001b[0m         \u001b[0;32mif\u001b[0m \u001b[0mtransparams\u001b[0m\u001b[0;34m:\u001b[0m  \u001b[0;31m# transform initial parameters to ensure invertibility\u001b[0m\u001b[0;34m\u001b[0m\u001b[0;34m\u001b[0m\u001b[0m\n",
      "\u001b[0;32m/usr/local/lib/python3.6/dist-packages/statsmodels/tsa/arima_model.py\u001b[0m in \u001b[0;36m_fit_start_params\u001b[0;34m(self, order, method, start_ar_lags)\u001b[0m\n\u001b[1;32m    552\u001b[0m             \u001b[0mfunc\u001b[0m \u001b[0;34m=\u001b[0m \u001b[0;32mlambda\u001b[0m \u001b[0mparams\u001b[0m\u001b[0;34m:\u001b[0m \u001b[0;34m-\u001b[0m\u001b[0mself\u001b[0m\u001b[0;34m.\u001b[0m\u001b[0mloglike_css\u001b[0m\u001b[0;34m(\u001b[0m\u001b[0mparams\u001b[0m\u001b[0;34m)\u001b[0m\u001b[0;34m\u001b[0m\u001b[0;34m\u001b[0m\u001b[0m\n\u001b[1;32m    553\u001b[0m             \u001b[0;31m#start_params = [.1]*(k_ar+k_ma+k_exog) # different one for k?\u001b[0m\u001b[0;34m\u001b[0m\u001b[0;34m\u001b[0m\u001b[0;34m\u001b[0m\u001b[0m\n\u001b[0;32m--> 554\u001b[0;31m             \u001b[0mstart_params\u001b[0m \u001b[0;34m=\u001b[0m \u001b[0mself\u001b[0m\u001b[0;34m.\u001b[0m\u001b[0m_fit_start_params_hr\u001b[0m\u001b[0;34m(\u001b[0m\u001b[0morder\u001b[0m\u001b[0;34m,\u001b[0m \u001b[0mstart_ar_lags\u001b[0m\u001b[0;34m)\u001b[0m\u001b[0;34m\u001b[0m\u001b[0;34m\u001b[0m\u001b[0m\n\u001b[0m\u001b[1;32m    555\u001b[0m             \u001b[0;32mif\u001b[0m \u001b[0mself\u001b[0m\u001b[0;34m.\u001b[0m\u001b[0mtransparams\u001b[0m\u001b[0;34m:\u001b[0m\u001b[0;34m\u001b[0m\u001b[0;34m\u001b[0m\u001b[0m\n\u001b[1;32m    556\u001b[0m                 \u001b[0mstart_params\u001b[0m \u001b[0;34m=\u001b[0m \u001b[0mself\u001b[0m\u001b[0;34m.\u001b[0m\u001b[0m_invtransparams\u001b[0m\u001b[0;34m(\u001b[0m\u001b[0mstart_params\u001b[0m\u001b[0;34m)\u001b[0m\u001b[0;34m\u001b[0m\u001b[0;34m\u001b[0m\u001b[0m\n",
      "\u001b[0;32m/usr/local/lib/python3.6/dist-packages/statsmodels/tsa/arima_model.py\u001b[0m in \u001b[0;36m_fit_start_params_hr\u001b[0;34m(self, order, start_ar_lags)\u001b[0m\n\u001b[1;32m    538\u001b[0m         elif q and not np.all(np.abs(np.roots(np.r_[1, start_params[k + p:]]\n\u001b[1;32m    539\u001b[0m                                               )) < 1):\n\u001b[0;32m--> 540\u001b[0;31m             raise ValueError(\"The computed initial MA coefficients are not \"\n\u001b[0m\u001b[1;32m    541\u001b[0m                              \u001b[0;34m\"invertible\\nYou should induce invertibility, \"\u001b[0m\u001b[0;34m\u001b[0m\u001b[0;34m\u001b[0m\u001b[0m\n\u001b[1;32m    542\u001b[0m                              \u001b[0;34m\"choose a different model order, or you can\\n\"\u001b[0m\u001b[0;34m\u001b[0m\u001b[0;34m\u001b[0m\u001b[0m\n",
      "\u001b[0;31mValueError\u001b[0m: The computed initial MA coefficients are not invertible\nYou should induce invertibility, choose a different model order, or you can\npass your own start_params."
     ]
    }
   ],
   "source": [
    "# We can use the ARMA class to create an MA model and setting a zeroth-order AR model. We must specify the order of the MA model in the order argument.\n",
    "\n",
    "# MA example\n",
    "from statsmodels.tsa.arima_model import ARMA\n",
    "from random import random\n",
    "# fit model import\n",
    "model = ARMA(df_train['exp_import'], order=(0, 12))\n",
    "model_fit = model.fit(disp=False)\n",
    "# make prediction\n",
    "yhat = model_fit.predict(len(df_train), len(df_train)+ 11)\n",
    "\n",
    "# fit model export\n",
    "model2 = ARMA(df_train['exp_export'], order=(0, 12))\n",
    "model2_fit = model2.fit(disp=False)\n",
    "# make prediction\n",
    "yhat2 = model2_fit.predict(len(df_train), len(df_train)+ 11)\n",
    "\n",
    "df_test['MA_import'] = np.exp(yhat)\n",
    "df_test['MA_export'] = np.exp(yhat2)"
   ]
  },
  {
   "cell_type": "code",
   "execution_count": 0,
   "metadata": {
    "colab": {},
    "colab_type": "code",
    "id": "5iioTmGXR3Fd"
   },
   "outputs": [],
   "source": [
    "rmse(df_test.Import.values, df_test.MA_import.values), rmse(df_test.Export.values, df_test.MA_export.values)"
   ]
  },
  {
   "cell_type": "code",
   "execution_count": 0,
   "metadata": {
    "colab": {},
    "colab_type": "code",
    "id": "iWfigtwxUkaR"
   },
   "outputs": [],
   "source": [
    "df_test[['Import','MA_import', 'Export', 'MA_export']]"
   ]
  },
  {
   "cell_type": "code",
   "execution_count": 0,
   "metadata": {
    "colab": {},
    "colab_type": "code",
    "id": "4Dg5S1EEUkMr"
   },
   "outputs": [],
   "source": [
    "df['MA_import'] = df_test['MA_import']\n",
    "df['MA_export'] = df_test['MA_export']\n",
    "df[['Import','MA_import', 'Export', 'MA_export']].plot(figsize = (8,5), grid = True)\n"
   ]
  },
  {
   "cell_type": "markdown",
   "metadata": {
    "colab_type": "text",
    "id": "PgCReHNUSV1Z"
   },
   "source": [
    "## ARMA (Autoregresive Moving Average)"
   ]
  },
  {
   "cell_type": "markdown",
   "metadata": {
    "colab_type": "text",
    "id": "jkHNcqaQSfyy"
   },
   "source": [
    "The Autoregressive Moving Average (ARMA) method models the next step in the sequence as a linear function of the observations and resiudal errors at prior time steps.\n",
    "\n",
    "It combines both Autoregression (AR) and Moving Average (MA) models.\n",
    "\n",
    "The notation for the model involves specifying the order for the AR(p) and MA(q) models as parameters to an ARMA function, e.g. ARMA(p, q). An ARIMA model can be used to develop AR or MA models.\n",
    "\n",
    "The method is suitable for univariate time series without trend and seasonal components."
   ]
  },
  {
   "cell_type": "code",
   "execution_count": 0,
   "metadata": {
    "colab": {},
    "colab_type": "code",
    "id": "2HEKpVI2SA0H"
   },
   "outputs": [],
   "source": [
    "# ARMA example\n",
    "from statsmodels.tsa.arima_model import ARMA\n",
    "from random import random\n",
    "# fit model\n",
    "model = ARMA(df_train['exp_import'], order=(2, 12))\n",
    "model_fit = model.fit(disp=False)\n",
    "# make prediction\n",
    "yhat = model_fit.predict(len(df_train), len(df_train)+11)\n",
    "\n",
    "# fit model\n",
    "model2 = ARMA(df_train['exp_export'], order=(2, 12))\n",
    "model2_fit = model2.fit(disp=False)\n",
    "# make prediction\n",
    "yhat2 = model2_fit.predict(len(df_train), len(df_train)+11)\n",
    "\n",
    "df_test['ARMA_import'] = np.exp(yhat)\n",
    "df_test['ARMA_export'] = np.exp(yhat2)"
   ]
  },
  {
   "cell_type": "code",
   "execution_count": 0,
   "metadata": {
    "colab": {},
    "colab_type": "code",
    "id": "ZAC773-yTDT9"
   },
   "outputs": [],
   "source": [
    "rmse(df_test.Import.values, df_test.ARMA_import.values), rmse(df_test.Export.values, df_test.ARMA_export.values)"
   ]
  },
  {
   "cell_type": "code",
   "execution_count": 0,
   "metadata": {
    "colab": {},
    "colab_type": "code",
    "id": "SYr1XJs5T2lD"
   },
   "outputs": [],
   "source": [
    "df_test[['Import','ARMA_import', 'Export', 'ARMA_export']]"
   ]
  },
  {
   "cell_type": "code",
   "execution_count": 0,
   "metadata": {
    "colab": {},
    "colab_type": "code",
    "id": "1NAu8xvBVFeJ"
   },
   "outputs": [],
   "source": [
    "df['ARMA_import'] = df_test['ARMA_import']\n",
    "df['ARMA_export'] = df_test['ARMA_export']\n",
    "df[['Import','ARMA_import', 'Export', 'ARMA_export']].plot(figsize = (8,5), grid = True)\n"
   ]
  },
  {
   "cell_type": "code",
   "execution_count": 0,
   "metadata": {
    "colab": {},
    "colab_type": "code",
    "id": "HaPCvYUsWcQr"
   },
   "outputs": [],
   "source": [
    "\n",
    "# ARIMA example\n",
    "from statsmodels.tsa.arima_model import ARIMA\n",
    "from random import random\n",
    "# contrived dataset\n",
    "data = [x + random() for x in range(1, 100)]\n",
    "# fit model\n",
    "model = ARIMA(data, order=(1, 1, 1))\n",
    "model_fit = model.fit(disp=False)\n",
    "# make prediction\n",
    "yhat = model_fit.predict(len(data), len(data), typ='levels')\n",
    "print(yhat)\n"
   ]
  }
 ],
 "metadata": {
  "accelerator": "GPU",
  "colab": {
   "authorship_tag": "ABX9TyPD0TUxjCQKW9erQ9b0U3Kj",
   "collapsed_sections": [],
   "name": "Time Series Models Import Export.ipynb",
   "provenance": []
  },
  "kernelspec": {
   "display_name": "Python 3",
   "language": "python",
   "name": "python3"
  },
  "language_info": {
   "codemirror_mode": {
    "name": "ipython",
    "version": 3
   },
   "file_extension": ".py",
   "mimetype": "text/x-python",
   "name": "python",
   "nbconvert_exporter": "python",
   "pygments_lexer": "ipython3",
   "version": "3.7.4"
  }
 },
 "nbformat": 4,
 "nbformat_minor": 1
}
