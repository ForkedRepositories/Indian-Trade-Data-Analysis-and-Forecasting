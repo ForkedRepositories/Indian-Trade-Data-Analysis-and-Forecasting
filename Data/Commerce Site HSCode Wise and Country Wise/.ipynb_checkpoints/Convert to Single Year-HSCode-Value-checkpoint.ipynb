{
 "cells": [
  {
   "cell_type": "code",
   "execution_count": 1,
   "metadata": {},
   "outputs": [],
   "source": [
    "import pandas as pd\n",
    "import numpy as np\n",
    "import matplotlib.pyplot as plt"
   ]
  },
  {
   "cell_type": "code",
   "execution_count": 2,
   "metadata": {},
   "outputs": [],
   "source": [
    "df_import = pd.read_csv(\"Year-HSCode-Value_Import.csv\",  thousands=',')\n",
    "\n",
    "df_import.index = pd.to_datetime(df_import['Date'])\n",
    "\n",
    "df_import.drop(['Date'], axis = 1, inplace = True)"
   ]
  },
  {
   "cell_type": "code",
   "execution_count": 3,
   "metadata": {},
   "outputs": [],
   "source": [
    "df_export = pd.read_csv(\"Year-HSCode-Value_Export.csv\",  thousands=',')\n",
    "\n",
    "df_export.index = pd.to_datetime(df_export['Date'])\n",
    "\n",
    "df_export.drop(['Date'], axis = 1, inplace = True)"
   ]
  },
  {
   "cell_type": "code",
   "execution_count": 4,
   "metadata": {},
   "outputs": [
    {
     "data": {
      "text/plain": [
       "((15278, 3), (15285, 3))"
      ]
     },
     "execution_count": 4,
     "metadata": {},
     "output_type": "execute_result"
    }
   ],
   "source": [
    "df_export.shape, df_import.shape"
   ]
  },
  {
   "cell_type": "code",
   "execution_count": 5,
   "metadata": {},
   "outputs": [],
   "source": [
    "df_import.rename(columns={\"Value\": \"Import_Value\"},inplace = True)\n",
    "df_export.rename(columns={\"Value\": \"Export_Value\"},inplace = True)"
   ]
  },
  {
   "cell_type": "code",
   "execution_count": 6,
   "metadata": {},
   "outputs": [],
   "source": [
    "df = pd.merge(df_import, df_export, how='outer', on=['Date','HSCode'], left_on=None, right_on=None,\n",
    "left_index=False, right_index=False, sort=True)"
   ]
  },
  {
   "cell_type": "code",
   "execution_count": 7,
   "metadata": {},
   "outputs": [],
   "source": [
    "df.to_csv(\"Year-HSCode-Value.csv\")"
   ]
  }
 ],
 "metadata": {
  "kernelspec": {
   "display_name": "Python 3",
   "language": "python",
   "name": "python3"
  },
  "language_info": {
   "codemirror_mode": {
    "name": "ipython",
    "version": 3
   },
   "file_extension": ".py",
   "mimetype": "text/x-python",
   "name": "python",
   "nbconvert_exporter": "python",
   "pygments_lexer": "ipython3",
   "version": "3.7.4"
  }
 },
 "nbformat": 4,
 "nbformat_minor": 4
}
