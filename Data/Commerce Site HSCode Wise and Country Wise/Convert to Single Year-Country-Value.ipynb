{
 "cells": [
  {
   "cell_type": "code",
   "execution_count": 1,
   "metadata": {},
   "outputs": [],
   "source": [
    "import pandas as pd\n",
    "import numpy as np\n",
    "import matplotlib.pyplot as plt"
   ]
  },
  {
   "cell_type": "code",
   "execution_count": 2,
   "metadata": {},
   "outputs": [],
   "source": [
    "df_import = pd.read_csv(\"Year-Country-Value_Import.csv\",  thousands=',')\n",
    "\n",
    "df_import.index = pd.to_datetime(df_import['Date'])\n",
    "\n",
    "df_import.drop(['Date'], axis = 1, inplace = True)"
   ]
  },
  {
   "cell_type": "code",
   "execution_count": 3,
   "metadata": {},
   "outputs": [],
   "source": [
    "df_export = pd.read_csv(\"Year-Country-Value_Export.csv\",  thousands=',')\n",
    "\n",
    "df_export.index = pd.to_datetime(df_export['Date'])\n",
    "\n",
    "df_export.drop(['Date'], axis = 1, inplace = True)"
   ]
  },
  {
   "cell_type": "code",
   "execution_count": 4,
   "metadata": {},
   "outputs": [
    {
     "data": {
      "text/plain": [
       "((33588, 2), (28848, 2))"
      ]
     },
     "execution_count": 4,
     "metadata": {},
     "output_type": "execute_result"
    }
   ],
   "source": [
    "df_export.shape, df_import.shape"
   ]
  },
  {
   "cell_type": "code",
   "execution_count": 5,
   "metadata": {},
   "outputs": [],
   "source": [
    "df_import.rename(columns={\"Value\": \"Import_Value\"},inplace = True)\n",
    "df_export.rename(columns={\"Value\": \"Export_Value\"},inplace = True)"
   ]
  },
  {
   "cell_type": "code",
   "execution_count": 6,
   "metadata": {},
   "outputs": [],
   "source": [
    "df = pd.merge(df_import, df_export, how='outer', on=['Date','Country'], left_on=None, right_on=None,\n",
    "left_index=False, right_index=False, sort=True)"
   ]
  },
  {
   "cell_type": "code",
   "execution_count": 7,
   "metadata": {},
   "outputs": [
    {
     "data": {
      "text/html": [
       "<div>\n",
       "<style scoped>\n",
       "    .dataframe tbody tr th:only-of-type {\n",
       "        vertical-align: middle;\n",
       "    }\n",
       "\n",
       "    .dataframe tbody tr th {\n",
       "        vertical-align: top;\n",
       "    }\n",
       "\n",
       "    .dataframe thead th {\n",
       "        text-align: right;\n",
       "    }\n",
       "</style>\n",
       "<table border=\"1\" class=\"dataframe\">\n",
       "  <thead>\n",
       "    <tr style=\"text-align: right;\">\n",
       "      <th></th>\n",
       "      <th>Country</th>\n",
       "      <th>Import_Value</th>\n",
       "      <th>Export_Value</th>\n",
       "    </tr>\n",
       "    <tr>\n",
       "      <th>Date</th>\n",
       "      <th></th>\n",
       "      <th></th>\n",
       "      <th></th>\n",
       "    </tr>\n",
       "  </thead>\n",
       "  <tbody>\n",
       "    <tr>\n",
       "      <th>2007-01-01</th>\n",
       "      <td>AFGHANISTAN TIS</td>\n",
       "      <td>0.48</td>\n",
       "      <td>22.22</td>\n",
       "    </tr>\n",
       "    <tr>\n",
       "      <th>2007-01-01</th>\n",
       "      <td>ALBANIA</td>\n",
       "      <td>NaN</td>\n",
       "      <td>0.34</td>\n",
       "    </tr>\n",
       "    <tr>\n",
       "      <th>2007-01-01</th>\n",
       "      <td>ALGERIA</td>\n",
       "      <td>73.86</td>\n",
       "      <td>29.94</td>\n",
       "    </tr>\n",
       "    <tr>\n",
       "      <th>2007-01-01</th>\n",
       "      <td>AMERI SAMOA</td>\n",
       "      <td>0.09</td>\n",
       "      <td>0.02</td>\n",
       "    </tr>\n",
       "    <tr>\n",
       "      <th>2007-01-01</th>\n",
       "      <td>ANGOLA</td>\n",
       "      <td>0.81</td>\n",
       "      <td>13.07</td>\n",
       "    </tr>\n",
       "    <tr>\n",
       "      <th>...</th>\n",
       "      <td>...</td>\n",
       "      <td>...</td>\n",
       "      <td>...</td>\n",
       "    </tr>\n",
       "    <tr>\n",
       "      <th>2020-01-01</th>\n",
       "      <td>VIETNAM SOC REP</td>\n",
       "      <td>466.37</td>\n",
       "      <td>373.05</td>\n",
       "    </tr>\n",
       "    <tr>\n",
       "      <th>2020-01-01</th>\n",
       "      <td>VIRGIN IS US</td>\n",
       "      <td>0.37</td>\n",
       "      <td>0.56</td>\n",
       "    </tr>\n",
       "    <tr>\n",
       "      <th>2020-01-01</th>\n",
       "      <td>YEMEN REPUBLC</td>\n",
       "      <td>1.07</td>\n",
       "      <td>65.07</td>\n",
       "    </tr>\n",
       "    <tr>\n",
       "      <th>2020-01-01</th>\n",
       "      <td>ZAMBIA</td>\n",
       "      <td>80.33</td>\n",
       "      <td>20.58</td>\n",
       "    </tr>\n",
       "    <tr>\n",
       "      <th>2020-01-01</th>\n",
       "      <td>ZIMBABWE</td>\n",
       "      <td>0.55</td>\n",
       "      <td>9.45</td>\n",
       "    </tr>\n",
       "  </tbody>\n",
       "</table>\n",
       "<p>34107 rows × 3 columns</p>\n",
       "</div>"
      ],
      "text/plain": [
       "                    Country  Import_Value  Export_Value\n",
       "Date                                                   \n",
       "2007-01-01  AFGHANISTAN TIS          0.48         22.22\n",
       "2007-01-01          ALBANIA           NaN          0.34\n",
       "2007-01-01          ALGERIA         73.86         29.94\n",
       "2007-01-01      AMERI SAMOA          0.09          0.02\n",
       "2007-01-01           ANGOLA          0.81         13.07\n",
       "...                     ...           ...           ...\n",
       "2020-01-01  VIETNAM SOC REP        466.37        373.05\n",
       "2020-01-01     VIRGIN IS US          0.37          0.56\n",
       "2020-01-01    YEMEN REPUBLC          1.07         65.07\n",
       "2020-01-01           ZAMBIA         80.33         20.58\n",
       "2020-01-01         ZIMBABWE          0.55          9.45\n",
       "\n",
       "[34107 rows x 3 columns]"
      ]
     },
     "execution_count": 7,
     "metadata": {},
     "output_type": "execute_result"
    }
   ],
   "source": [
    "df"
   ]
  },
  {
   "cell_type": "code",
   "execution_count": 8,
   "metadata": {},
   "outputs": [],
   "source": [
    "# df.to_csv(\"Year-Country-Value.csv\")"
   ]
  }
 ],
 "metadata": {
  "kernelspec": {
   "display_name": "Python 3",
   "language": "python",
   "name": "python3"
  },
  "language_info": {
   "codemirror_mode": {
    "name": "ipython",
    "version": 3
   },
   "file_extension": ".py",
   "mimetype": "text/x-python",
   "name": "python",
   "nbconvert_exporter": "python",
   "pygments_lexer": "ipython3",
   "version": "3.7.4"
  }
 },
 "nbformat": 4,
 "nbformat_minor": 4
}
