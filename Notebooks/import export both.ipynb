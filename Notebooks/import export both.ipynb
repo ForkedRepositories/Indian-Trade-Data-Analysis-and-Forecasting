{
 "cells": [
  {
   "cell_type": "code",
   "execution_count": 1,
   "metadata": {},
   "outputs": [],
   "source": [
    "# importng pandas and setting some default rows and columns size\n",
    "import pandas as pd\n",
    "pd.set_option('display.max_rows', 500)\n",
    "pd.set_option('display.max_columns', 500)\n",
    "pd.set_option('display.width', 1000)\n",
    "pd.set_option('display.max_colwidth', -1)"
   ]
  },
  {
   "cell_type": "code",
   "execution_count": 2,
   "metadata": {},
   "outputs": [],
   "source": [
    "import numpy as np\n",
    "import seaborn as sns\n",
    "import matplotlib.pyplot as plt\n",
    "# plt.style.available\n",
    "plt.style.use('fast')"
   ]
  },
  {
   "cell_type": "code",
   "execution_count": 3,
   "metadata": {},
   "outputs": [
    {
     "data": {
      "text/html": [
       "<div>\n",
       "<style scoped>\n",
       "    .dataframe tbody tr th:only-of-type {\n",
       "        vertical-align: middle;\n",
       "    }\n",
       "\n",
       "    .dataframe tbody tr th {\n",
       "        vertical-align: top;\n",
       "    }\n",
       "\n",
       "    .dataframe thead th {\n",
       "        text-align: right;\n",
       "    }\n",
       "</style>\n",
       "<table border=\"1\" class=\"dataframe\">\n",
       "  <thead>\n",
       "    <tr style=\"text-align: right;\">\n",
       "      <th></th>\n",
       "      <th>HSCode</th>\n",
       "      <th>Commodity</th>\n",
       "      <th>value</th>\n",
       "      <th>country</th>\n",
       "      <th>year</th>\n",
       "    </tr>\n",
       "  </thead>\n",
       "  <tbody>\n",
       "    <tr>\n",
       "      <td>0</td>\n",
       "      <td>5</td>\n",
       "      <td>PRODUCTS OF ANIMAL ORIGIN, NOT ELSEWHERE SPECIFIED OR INCLUDED.</td>\n",
       "      <td>0.00</td>\n",
       "      <td>AFGHANISTAN TIS</td>\n",
       "      <td>2018</td>\n",
       "    </tr>\n",
       "    <tr>\n",
       "      <td>1</td>\n",
       "      <td>7</td>\n",
       "      <td>EDIBLE VEGETABLES AND CERTAIN ROOTS AND TUBERS.</td>\n",
       "      <td>12.38</td>\n",
       "      <td>AFGHANISTAN TIS</td>\n",
       "      <td>2018</td>\n",
       "    </tr>\n",
       "    <tr>\n",
       "      <td>2</td>\n",
       "      <td>8</td>\n",
       "      <td>EDIBLE FRUIT AND NUTS; PEEL OR CITRUS FRUIT OR MELONS.</td>\n",
       "      <td>268.60</td>\n",
       "      <td>AFGHANISTAN TIS</td>\n",
       "      <td>2018</td>\n",
       "    </tr>\n",
       "    <tr>\n",
       "      <td>3</td>\n",
       "      <td>9</td>\n",
       "      <td>COFFEE, TEA, MATE AND SPICES.</td>\n",
       "      <td>35.48</td>\n",
       "      <td>AFGHANISTAN TIS</td>\n",
       "      <td>2018</td>\n",
       "    </tr>\n",
       "    <tr>\n",
       "      <td>4</td>\n",
       "      <td>11</td>\n",
       "      <td>PRODUCTS OF THE MILLING INDUSTRY; MALT; STARCHES; INULIN; WHEAT GLUTEN.</td>\n",
       "      <td>NaN</td>\n",
       "      <td>AFGHANISTAN TIS</td>\n",
       "      <td>2018</td>\n",
       "    </tr>\n",
       "  </tbody>\n",
       "</table>\n",
       "</div>"
      ],
      "text/plain": [
       "   HSCode                                                                Commodity   value          country  year\n",
       "0  5       PRODUCTS OF ANIMAL ORIGIN, NOT ELSEWHERE SPECIFIED OR INCLUDED.          0.00    AFGHANISTAN TIS  2018\n",
       "1  7       EDIBLE VEGETABLES AND CERTAIN ROOTS AND TUBERS.                          12.38   AFGHANISTAN TIS  2018\n",
       "2  8       EDIBLE FRUIT AND NUTS; PEEL OR CITRUS FRUIT OR MELONS.                   268.60  AFGHANISTAN TIS  2018\n",
       "3  9       COFFEE, TEA, MATE AND SPICES.                                            35.48   AFGHANISTAN TIS  2018\n",
       "4  11      PRODUCTS OF THE MILLING INDUSTRY; MALT; STARCHES; INULIN; WHEAT GLUTEN. NaN      AFGHANISTAN TIS  2018"
      ]
     },
     "execution_count": 3,
     "metadata": {},
     "output_type": "execute_result"
    }
   ],
   "source": [
    "#reading data files\n",
    "import_ = pd.read_csv(\"../Data/2018-2010_import.csv\")\n",
    "import_.head()"
   ]
  },
  {
   "cell_type": "code",
   "execution_count": 4,
   "metadata": {},
   "outputs": [
    {
     "data": {
      "text/html": [
       "<div>\n",
       "<style scoped>\n",
       "    .dataframe tbody tr th:only-of-type {\n",
       "        vertical-align: middle;\n",
       "    }\n",
       "\n",
       "    .dataframe tbody tr th {\n",
       "        vertical-align: top;\n",
       "    }\n",
       "\n",
       "    .dataframe thead th {\n",
       "        text-align: right;\n",
       "    }\n",
       "</style>\n",
       "<table border=\"1\" class=\"dataframe\">\n",
       "  <thead>\n",
       "    <tr style=\"text-align: right;\">\n",
       "      <th></th>\n",
       "      <th>HSCode</th>\n",
       "      <th>Commodity</th>\n",
       "      <th>value</th>\n",
       "      <th>country</th>\n",
       "      <th>year</th>\n",
       "    </tr>\n",
       "  </thead>\n",
       "  <tbody>\n",
       "    <tr>\n",
       "      <td>0</td>\n",
       "      <td>2</td>\n",
       "      <td>MEAT AND EDIBLE MEAT OFFAL.</td>\n",
       "      <td>0.18</td>\n",
       "      <td>AFGHANISTAN TIS</td>\n",
       "      <td>2018</td>\n",
       "    </tr>\n",
       "    <tr>\n",
       "      <td>1</td>\n",
       "      <td>3</td>\n",
       "      <td>FISH AND CRUSTACEANS, MOLLUSCS AND OTHER AQUATIC INVERTABRATES.</td>\n",
       "      <td>0.00</td>\n",
       "      <td>AFGHANISTAN TIS</td>\n",
       "      <td>2018</td>\n",
       "    </tr>\n",
       "    <tr>\n",
       "      <td>2</td>\n",
       "      <td>4</td>\n",
       "      <td>DAIRY PRODUCE; BIRDS' EGGS; NATURAL HONEY; EDIBLE PROD. OF ANIMAL ORIGIN, NOT ELSEWHERE SPEC. OR INCLUDED.</td>\n",
       "      <td>12.48</td>\n",
       "      <td>AFGHANISTAN TIS</td>\n",
       "      <td>2018</td>\n",
       "    </tr>\n",
       "    <tr>\n",
       "      <td>3</td>\n",
       "      <td>6</td>\n",
       "      <td>LIVE TREES AND OTHER PLANTS; BULBS; ROOTS AND THE LIKE; CUT FLOWERS AND ORNAMENTAL FOLIAGE.</td>\n",
       "      <td>0.00</td>\n",
       "      <td>AFGHANISTAN TIS</td>\n",
       "      <td>2018</td>\n",
       "    </tr>\n",
       "    <tr>\n",
       "      <td>4</td>\n",
       "      <td>7</td>\n",
       "      <td>EDIBLE VEGETABLES AND CERTAIN ROOTS AND TUBERS.</td>\n",
       "      <td>1.89</td>\n",
       "      <td>AFGHANISTAN TIS</td>\n",
       "      <td>2018</td>\n",
       "    </tr>\n",
       "  </tbody>\n",
       "</table>\n",
       "</div>"
      ],
      "text/plain": [
       "   HSCode                                                                                                   Commodity  value          country  year\n",
       "0  2       MEAT AND EDIBLE MEAT OFFAL.                                                                                 0.18   AFGHANISTAN TIS  2018\n",
       "1  3       FISH AND CRUSTACEANS, MOLLUSCS AND OTHER AQUATIC INVERTABRATES.                                             0.00   AFGHANISTAN TIS  2018\n",
       "2  4       DAIRY PRODUCE; BIRDS' EGGS; NATURAL HONEY; EDIBLE PROD. OF ANIMAL ORIGIN, NOT ELSEWHERE SPEC. OR INCLUDED.  12.48  AFGHANISTAN TIS  2018\n",
       "3  6       LIVE TREES AND OTHER PLANTS; BULBS; ROOTS AND THE LIKE; CUT FLOWERS AND ORNAMENTAL FOLIAGE.                 0.00   AFGHANISTAN TIS  2018\n",
       "4  7       EDIBLE VEGETABLES AND CERTAIN ROOTS AND TUBERS.                                                             1.89   AFGHANISTAN TIS  2018"
      ]
     },
     "execution_count": 4,
     "metadata": {},
     "output_type": "execute_result"
    }
   ],
   "source": [
    "#reading data files\n",
    "export_ = pd.read_csv(\"../Data/2018-2010_export.csv\")\n",
    "export_.head()"
   ]
  },
  {
   "cell_type": "code",
   "execution_count": 5,
   "metadata": {},
   "outputs": [],
   "source": [
    "import_['type'] = 'import'\n",
    "export_['type'] = 'export'"
   ]
  },
  {
   "cell_type": "code",
   "execution_count": 6,
   "metadata": {},
   "outputs": [],
   "source": [
    "df = pd.concat([import_, export_])"
   ]
  },
  {
   "cell_type": "code",
   "execution_count": 7,
   "metadata": {},
   "outputs": [
    {
     "data": {
      "text/html": [
       "<div>\n",
       "<style scoped>\n",
       "    .dataframe tbody tr th:only-of-type {\n",
       "        vertical-align: middle;\n",
       "    }\n",
       "\n",
       "    .dataframe tbody tr th {\n",
       "        vertical-align: top;\n",
       "    }\n",
       "\n",
       "    .dataframe thead th {\n",
       "        text-align: right;\n",
       "    }\n",
       "</style>\n",
       "<table border=\"1\" class=\"dataframe\">\n",
       "  <thead>\n",
       "    <tr style=\"text-align: right;\">\n",
       "      <th></th>\n",
       "      <th>HSCode</th>\n",
       "      <th>Commodity</th>\n",
       "      <th>value</th>\n",
       "      <th>country</th>\n",
       "      <th>year</th>\n",
       "      <th>type</th>\n",
       "    </tr>\n",
       "  </thead>\n",
       "  <tbody>\n",
       "    <tr>\n",
       "      <td>0</td>\n",
       "      <td>5</td>\n",
       "      <td>PRODUCTS OF ANIMAL ORIGIN, NOT ELSEWHERE SPECIFIED OR INCLUDED.</td>\n",
       "      <td>0.00</td>\n",
       "      <td>AFGHANISTAN TIS</td>\n",
       "      <td>2018</td>\n",
       "      <td>import</td>\n",
       "    </tr>\n",
       "    <tr>\n",
       "      <td>1</td>\n",
       "      <td>7</td>\n",
       "      <td>EDIBLE VEGETABLES AND CERTAIN ROOTS AND TUBERS.</td>\n",
       "      <td>12.38</td>\n",
       "      <td>AFGHANISTAN TIS</td>\n",
       "      <td>2018</td>\n",
       "      <td>import</td>\n",
       "    </tr>\n",
       "    <tr>\n",
       "      <td>2</td>\n",
       "      <td>8</td>\n",
       "      <td>EDIBLE FRUIT AND NUTS; PEEL OR CITRUS FRUIT OR MELONS.</td>\n",
       "      <td>268.60</td>\n",
       "      <td>AFGHANISTAN TIS</td>\n",
       "      <td>2018</td>\n",
       "      <td>import</td>\n",
       "    </tr>\n",
       "    <tr>\n",
       "      <td>3</td>\n",
       "      <td>9</td>\n",
       "      <td>COFFEE, TEA, MATE AND SPICES.</td>\n",
       "      <td>35.48</td>\n",
       "      <td>AFGHANISTAN TIS</td>\n",
       "      <td>2018</td>\n",
       "      <td>import</td>\n",
       "    </tr>\n",
       "    <tr>\n",
       "      <td>4</td>\n",
       "      <td>11</td>\n",
       "      <td>PRODUCTS OF THE MILLING INDUSTRY; MALT; STARCHES; INULIN; WHEAT GLUTEN.</td>\n",
       "      <td>NaN</td>\n",
       "      <td>AFGHANISTAN TIS</td>\n",
       "      <td>2018</td>\n",
       "      <td>import</td>\n",
       "    </tr>\n",
       "    <tr>\n",
       "      <td>...</td>\n",
       "      <td>...</td>\n",
       "      <td>...</td>\n",
       "      <td>...</td>\n",
       "      <td>...</td>\n",
       "      <td>...</td>\n",
       "      <td>...</td>\n",
       "    </tr>\n",
       "    <tr>\n",
       "      <td>137018</td>\n",
       "      <td>95</td>\n",
       "      <td>TOYS, GAMES AND SPORTS REQUISITES; PARTS AND ACCESSORIES THEREOF.</td>\n",
       "      <td>0.03</td>\n",
       "      <td>ZIMBABWE</td>\n",
       "      <td>2010</td>\n",
       "      <td>export</td>\n",
       "    </tr>\n",
       "    <tr>\n",
       "      <td>137019</td>\n",
       "      <td>96</td>\n",
       "      <td>MISCELLANEOUS MANUFACTURED ARTICLES.</td>\n",
       "      <td>0.45</td>\n",
       "      <td>ZIMBABWE</td>\n",
       "      <td>2010</td>\n",
       "      <td>export</td>\n",
       "    </tr>\n",
       "    <tr>\n",
       "      <td>137020</td>\n",
       "      <td>97</td>\n",
       "      <td>WORKS OF ART COLLECTORS' PIECES AND ANTIQUES.</td>\n",
       "      <td>0.00</td>\n",
       "      <td>ZIMBABWE</td>\n",
       "      <td>2010</td>\n",
       "      <td>export</td>\n",
       "    </tr>\n",
       "    <tr>\n",
       "      <td>137021</td>\n",
       "      <td>98</td>\n",
       "      <td>PROJECT GOODS; SOME SPECIAL USES.</td>\n",
       "      <td>0.00</td>\n",
       "      <td>ZIMBABWE</td>\n",
       "      <td>2010</td>\n",
       "      <td>export</td>\n",
       "    </tr>\n",
       "    <tr>\n",
       "      <td>137022</td>\n",
       "      <td>99</td>\n",
       "      <td>MISCELLANEOUS GOODS.</td>\n",
       "      <td>0.07</td>\n",
       "      <td>ZIMBABWE</td>\n",
       "      <td>2010</td>\n",
       "      <td>export</td>\n",
       "    </tr>\n",
       "  </tbody>\n",
       "</table>\n",
       "<p>230118 rows × 6 columns</p>\n",
       "</div>"
      ],
      "text/plain": [
       "        HSCode                                                                Commodity   value          country  year    type\n",
       "0       5       PRODUCTS OF ANIMAL ORIGIN, NOT ELSEWHERE SPECIFIED OR INCLUDED.          0.00    AFGHANISTAN TIS  2018  import\n",
       "1       7       EDIBLE VEGETABLES AND CERTAIN ROOTS AND TUBERS.                          12.38   AFGHANISTAN TIS  2018  import\n",
       "2       8       EDIBLE FRUIT AND NUTS; PEEL OR CITRUS FRUIT OR MELONS.                   268.60  AFGHANISTAN TIS  2018  import\n",
       "3       9       COFFEE, TEA, MATE AND SPICES.                                            35.48   AFGHANISTAN TIS  2018  import\n",
       "4       11      PRODUCTS OF THE MILLING INDUSTRY; MALT; STARCHES; INULIN; WHEAT GLUTEN. NaN      AFGHANISTAN TIS  2018  import\n",
       "...     ..                                                                          ...  ..                  ...   ...     ...\n",
       "137018  95      TOYS, GAMES AND SPORTS REQUISITES; PARTS AND ACCESSORIES THEREOF.        0.03    ZIMBABWE         2010  export\n",
       "137019  96      MISCELLANEOUS MANUFACTURED ARTICLES.                                     0.45    ZIMBABWE         2010  export\n",
       "137020  97      WORKS OF ART COLLECTORS' PIECES AND ANTIQUES.                            0.00    ZIMBABWE         2010  export\n",
       "137021  98      PROJECT GOODS; SOME SPECIAL USES.                                        0.00    ZIMBABWE         2010  export\n",
       "137022  99      MISCELLANEOUS GOODS.                                                     0.07    ZIMBABWE         2010  export\n",
       "\n",
       "[230118 rows x 6 columns]"
      ]
     },
     "execution_count": 7,
     "metadata": {},
     "output_type": "execute_result"
    }
   ],
   "source": [
    "df"
   ]
  },
  {
   "cell_type": "code",
   "execution_count": 8,
   "metadata": {},
   "outputs": [
    {
     "data": {
      "text/html": [
       "<div>\n",
       "<style scoped>\n",
       "    .dataframe tbody tr th:only-of-type {\n",
       "        vertical-align: middle;\n",
       "    }\n",
       "\n",
       "    .dataframe tbody tr th {\n",
       "        vertical-align: top;\n",
       "    }\n",
       "\n",
       "    .dataframe thead th {\n",
       "        text-align: right;\n",
       "    }\n",
       "</style>\n",
       "<table border=\"1\" class=\"dataframe\">\n",
       "  <thead>\n",
       "    <tr style=\"text-align: right;\">\n",
       "      <th></th>\n",
       "      <th>HSCode</th>\n",
       "      <th>value</th>\n",
       "      <th>year</th>\n",
       "    </tr>\n",
       "  </thead>\n",
       "  <tbody>\n",
       "    <tr>\n",
       "      <td>count</td>\n",
       "      <td>230118.000000</td>\n",
       "      <td>202053.000000</td>\n",
       "      <td>230118.000000</td>\n",
       "    </tr>\n",
       "    <tr>\n",
       "      <td>mean</td>\n",
       "      <td>52.349482</td>\n",
       "      <td>37.894620</td>\n",
       "      <td>2014.298403</td>\n",
       "    </tr>\n",
       "    <tr>\n",
       "      <td>std</td>\n",
       "      <td>27.864025</td>\n",
       "      <td>454.359449</td>\n",
       "      <td>2.646628</td>\n",
       "    </tr>\n",
       "    <tr>\n",
       "      <td>min</td>\n",
       "      <td>1.000000</td>\n",
       "      <td>0.000000</td>\n",
       "      <td>2010.000000</td>\n",
       "    </tr>\n",
       "    <tr>\n",
       "      <td>25%</td>\n",
       "      <td>29.000000</td>\n",
       "      <td>0.030000</td>\n",
       "      <td>2012.000000</td>\n",
       "    </tr>\n",
       "    <tr>\n",
       "      <td>50%</td>\n",
       "      <td>53.000000</td>\n",
       "      <td>0.370000</td>\n",
       "      <td>2014.000000</td>\n",
       "    </tr>\n",
       "    <tr>\n",
       "      <td>75%</td>\n",
       "      <td>76.000000</td>\n",
       "      <td>4.140000</td>\n",
       "      <td>2017.000000</td>\n",
       "    </tr>\n",
       "    <tr>\n",
       "      <td>max</td>\n",
       "      <td>99.000000</td>\n",
       "      <td>32781.570000</td>\n",
       "      <td>2018.000000</td>\n",
       "    </tr>\n",
       "  </tbody>\n",
       "</table>\n",
       "</div>"
      ],
      "text/plain": [
       "              HSCode          value           year\n",
       "count  230118.000000  202053.000000  230118.000000\n",
       "mean   52.349482      37.894620      2014.298403  \n",
       "std    27.864025      454.359449     2.646628     \n",
       "min    1.000000       0.000000       2010.000000  \n",
       "25%    29.000000      0.030000       2012.000000  \n",
       "50%    53.000000      0.370000       2014.000000  \n",
       "75%    76.000000      4.140000       2017.000000  \n",
       "max    99.000000      32781.570000   2018.000000  "
      ]
     },
     "execution_count": 8,
     "metadata": {},
     "output_type": "execute_result"
    }
   ],
   "source": [
    "df.describe()"
   ]
  },
  {
   "cell_type": "code",
   "execution_count": 9,
   "metadata": {},
   "outputs": [
    {
     "data": {
      "text/plain": [
       "7656721.740000001"
      ]
     },
     "execution_count": 9,
     "metadata": {},
     "output_type": "execute_result"
    }
   ],
   "source": [
    "df['value'].sum()"
   ]
  },
  {
   "cell_type": "code",
   "execution_count": 10,
   "metadata": {},
   "outputs": [
    {
     "data": {
      "text/plain": [
       "<matplotlib.axes._subplots.AxesSubplot at 0x11c323b0>"
      ]
     },
     "execution_count": 10,
     "metadata": {},
     "output_type": "execute_result"
    },
    {
     "data": {
      "image/png": "[encoded data removed]",
      "text/plain": [
       "<Figure size 1152x576 with 1 Axes>"
      ]
     },
     "metadata": {
      "needs_background": "light"
     },
     "output_type": "display_data"
    }
   ],
   "source": [
    "df.groupby([\"HSCode\",'type']).sum().unstack()['value'].plot.bar(figsize= (16,8))"
   ]
  },
  {
   "cell_type": "code",
   "execution_count": 11,
   "metadata": {},
   "outputs": [
    {
     "data": {
      "text/plain": [
       "Text(0.5, 1.0, 'Total Value of Top 15 HSCode we import/export')"
      ]
     },
     "execution_count": 11,
     "metadata": {},
     "output_type": "execute_result"
    },
    {
     "data": {
      "image/png": "[encoded data removed]",
      "text/plain": [
       "<Figure size 1152x576 with 1 Axes>"
      ]
     },
     "metadata": {
      "needs_background": "light"
     },
     "output_type": "display_data"
    }
   ],
   "source": [
    "df.groupby([\"HSCode\",\"type\"]).sum().nlargest(15,['value']).unstack()['value'].plot.bar(figsize= (16,8))\n",
    "plt.ylabel('Total Value we import/export', fontsize = 16)\n",
    "plt.xlabel('HS Code', fontsize = 16)\n",
    "plt.xticks(rotation=20)\n",
    "plt.title('Total Value of Top 15 HSCode we import/export', fontsize = 20)"
   ]
  },
  {
   "cell_type": "code",
   "execution_count": 15,
   "metadata": {},
   "outputs": [
    {
     "data": {
      "text/html": [
       "<div>\n",
       "<style scoped>\n",
       "    .dataframe tbody tr th:only-of-type {\n",
       "        vertical-align: middle;\n",
       "    }\n",
       "\n",
       "    .dataframe tbody tr th {\n",
       "        vertical-align: top;\n",
       "    }\n",
       "\n",
       "    .dataframe thead th {\n",
       "        text-align: right;\n",
       "    }\n",
       "</style>\n",
       "<table border=\"1\" class=\"dataframe\">\n",
       "  <thead>\n",
       "    <tr style=\"text-align: right;\">\n",
       "      <th></th>\n",
       "      <th></th>\n",
       "      <th>value</th>\n",
       "      <th>year</th>\n",
       "    </tr>\n",
       "    <tr>\n",
       "      <th>HSCode</th>\n",
       "      <th>type</th>\n",
       "      <th></th>\n",
       "      <th></th>\n",
       "    </tr>\n",
       "  </thead>\n",
       "  <tbody>\n",
       "    <tr>\n",
       "      <td>27</td>\n",
       "      <td>import</td>\n",
       "      <td>1618556.68</td>\n",
       "      <td>2864886</td>\n",
       "    </tr>\n",
       "    <tr>\n",
       "      <td>71</td>\n",
       "      <td>import</td>\n",
       "      <td>770826.15</td>\n",
       "      <td>2933456</td>\n",
       "    </tr>\n",
       "    <tr>\n",
       "      <td>27</td>\n",
       "      <td>export</td>\n",
       "      <td>434594.81</td>\n",
       "      <td>3093623</td>\n",
       "    </tr>\n",
       "    <tr>\n",
       "      <td>85</td>\n",
       "      <td>import</td>\n",
       "      <td>427570.66</td>\n",
       "      <td>4379928</td>\n",
       "    </tr>\n",
       "    <tr>\n",
       "      <td>84</td>\n",
       "      <td>import</td>\n",
       "      <td>393021.90</td>\n",
       "      <td>4210617</td>\n",
       "    </tr>\n",
       "    <tr>\n",
       "      <td>71</td>\n",
       "      <td>export</td>\n",
       "      <td>383341.86</td>\n",
       "      <td>3635238</td>\n",
       "    </tr>\n",
       "    <tr>\n",
       "      <td>29</td>\n",
       "      <td>import</td>\n",
       "      <td>192168.00</td>\n",
       "      <td>2707631</td>\n",
       "    </tr>\n",
       "    <tr>\n",
       "      <td>39</td>\n",
       "      <td>import</td>\n",
       "      <td>129127.42</td>\n",
       "      <td>3759390</td>\n",
       "    </tr>\n",
       "    <tr>\n",
       "      <td>72</td>\n",
       "      <td>import</td>\n",
       "      <td>126034.55</td>\n",
       "      <td>3678637</td>\n",
       "    </tr>\n",
       "    <tr>\n",
       "      <td>87</td>\n",
       "      <td>export</td>\n",
       "      <td>124502.75</td>\n",
       "      <td>3758161</td>\n",
       "    </tr>\n",
       "    <tr>\n",
       "      <td>84</td>\n",
       "      <td>export</td>\n",
       "      <td>123810.69</td>\n",
       "      <td>3917311</td>\n",
       "    </tr>\n",
       "    <tr>\n",
       "      <td>15</td>\n",
       "      <td>import</td>\n",
       "      <td>115462.40</td>\n",
       "      <td>1545254</td>\n",
       "    </tr>\n",
       "    <tr>\n",
       "      <td>29</td>\n",
       "      <td>export</td>\n",
       "      <td>113008.98</td>\n",
       "      <td>3540646</td>\n",
       "    </tr>\n",
       "    <tr>\n",
       "      <td>30</td>\n",
       "      <td>export</td>\n",
       "      <td>101792.69</td>\n",
       "      <td>3858838</td>\n",
       "    </tr>\n",
       "    <tr>\n",
       "      <td>85</td>\n",
       "      <td>export</td>\n",
       "      <td>89819.84</td>\n",
       "      <td>3953492</td>\n",
       "    </tr>\n",
       "  </tbody>\n",
       "</table>\n",
       "</div>"
      ],
      "text/plain": [
       "                    value     year\n",
       "HSCode type                       \n",
       "27     import  1618556.68  2864886\n",
       "71     import  770826.15   2933456\n",
       "27     export  434594.81   3093623\n",
       "85     import  427570.66   4379928\n",
       "84     import  393021.90   4210617\n",
       "71     export  383341.86   3635238\n",
       "29     import  192168.00   2707631\n",
       "39     import  129127.42   3759390\n",
       "72     import  126034.55   3678637\n",
       "87     export  124502.75   3758161\n",
       "84     export  123810.69   3917311\n",
       "15     import  115462.40   1545254\n",
       "29     export  113008.98   3540646\n",
       "30     export  101792.69   3858838\n",
       "85     export  89819.84    3953492"
      ]
     },
     "execution_count": 15,
     "metadata": {},
     "output_type": "execute_result"
    }
   ],
   "source": [
    "df.groupby([\"HSCode\",\"type\"]).sum().nlargest(15,['value']).unstack()['value']"
   ]
  },
  {
   "cell_type": "code",
   "execution_count": 13,
   "metadata": {},
   "outputs": [
    {
     "data": {
      "text/plain": [
       "Text(0.5, 1.0, 'Total value we import Country Wise For HS Code 27')"
      ]
     },
     "execution_count": 13,
     "metadata": {},
     "output_type": "execute_result"
    },
    {
     "data": {
      "image/png": "[encoded data removed]",
      "text/plain": [
       "<Figure size 1152x576 with 1 Axes>"
      ]
     },
     "metadata": {
      "needs_background": "light"
     },
     "output_type": "display_data"
    }
   ],
   "source": [
    "df[df['HSCode']==27].groupby(['country','type']).sum().nlargest(15, ['value']).unstack()['value'].plot.bar(figsize= (16,8))\n",
    "plt.ylabel('Total Value', fontsize = 16)\n",
    "plt.xlabel('Countries', fontsize = 16)\n",
    "plt.xticks(rotation=20)\n",
    "plt.title('Total value we import Country Wise For HS Code 27', fontsize = 20)"
   ]
  },
  {
   "cell_type": "code",
   "execution_count": 14,
   "metadata": {},
   "outputs": [
    {
     "data": {
      "text/plain": [
       "Text(0.5, 1.0, 'Total value india import/export every year')"
      ]
     },
     "execution_count": 14,
     "metadata": {},
     "output_type": "execute_result"
    },
    {
     "data": {
      "image/png": "[encoded data removed]",
      "text/plain": [
       "<Figure size 1152x576 with 1 Axes>"
      ]
     },
     "metadata": {
      "needs_background": "light"
     },
     "output_type": "display_data"
    }
   ],
   "source": [
    "# year wise import plot\n",
    "df.groupby(['year','type']).sum().unstack()['value'].plot.bar(figsize= (16,8))\n",
    "plt.ylabel('Total Value', fontsize = 16)\n",
    "plt.xlabel('Year', fontsize = 16)\n",
    "plt.xticks(rotation=20)\n",
    "plt.title('Total value india import/export every year', fontsize = 20)"
   ]
  },
  {
   "cell_type": "code",
   "execution_count": 17,
   "metadata": {},
   "outputs": [
    {
     "data": {
      "text/plain": [
       "Text(0.5, 1.0, 'Total value India import/export every year from China')"
      ]
     },
     "execution_count": 17,
     "metadata": {},
     "output_type": "execute_result"
    },
    {
     "data": {
      "image/png": "[encoded data removed]",
      "text/plain": [
       "<Figure size 1152x648 with 1 Axes>"
      ]
     },
     "metadata": {
      "needs_background": "light"
     },
     "output_type": "display_data"
    }
   ],
   "source": [
    "df[df['country'] == 'CHINA P RP'].groupby(['year','type']).sum().unstack()['value'].plot.bar(figsize = (16,9))\n",
    "# df[df['country'] == 'CHINA P RP'].groupby(['year']).sum()['value'].plot(figsize = (16,9))\n",
    "plt.ylabel('Total Value', fontsize = 16)\n",
    "plt.xlabel('Year', fontsize = 16)\n",
    "plt.xticks(rotation=20)\n",
    "plt.title('Total value India import/export every year from China', fontsize = 20)"
   ]
  },
  {
   "cell_type": "code",
   "execution_count": 18,
   "metadata": {},
   "outputs": [],
   "source": [
    "df.to_csv('../Data/trade.csv')"
   ]
  },
  {
   "cell_type": "code",
   "execution_count": null,
   "metadata": {},
   "outputs": [],
   "source": []
  }
 ],
 "metadata": {
  "kernelspec": {
   "display_name": "Python 3",
   "language": "python",
   "name": "python3"
  },
  "language_info": {
   "codemirror_mode": {
    "name": "ipython",
    "version": 3
   },
   "file_extension": ".py",
   "mimetype": "text/x-python",
   "name": "python",
   "nbconvert_exporter": "python",
   "pygments_lexer": "ipython3",
   "version": "3.7.4"
  }
 },
 "nbformat": 4,
 "nbformat_minor": 2
}
